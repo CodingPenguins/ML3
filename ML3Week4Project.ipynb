{
  "nbformat": 4,
  "nbformat_minor": 0,
  "metadata": {
    "colab": {
      "provenance": [],
      "gpuType": "A100",
      "authorship_tag": "ABX9TyNNT4tJ4nxq7kQdmz0Pxvfb",
      "include_colab_link": true
    },
    "kernelspec": {
      "name": "python3",
      "display_name": "Python 3"
    },
    "language_info": {
      "name": "python"
    },
    "accelerator": "GPU"
  },
  "cells": [
    {
      "cell_type": "markdown",
      "metadata": {
        "id": "view-in-github",
        "colab_type": "text"
      },
      "source": [
        "<a href=\"https://colab.research.google.com/github/CodingPenguins/ML3/blob/main/ML3Week4Project.ipynb\" target=\"_parent\"><img src=\"https://colab.research.google.com/assets/colab-badge.svg\" alt=\"Open In Colab\"/></a>"
      ]
    },
    {
      "cell_type": "markdown",
      "source": [
        "# NLP - Disaster Tweet Classification"
      ],
      "metadata": {
        "id": "rLQ6n_F8CWMA"
      }
    },
    {
      "cell_type": "markdown",
      "source": [
        "## Introduction"
      ],
      "metadata": {
        "id": "doFXcHf7Ccxi"
      }
    },
    {
      "cell_type": "markdown",
      "source": [
        "This weeks Kaggle competition is about Disaster Tweets, extracting from Twitter. It contains a tweet's text (and hashtags), as well as a classification on whether this was deemed a disaster tweet or not. Additional information (keyword and location) are also provided.\n",
        "The task is to generate a model predicting the correct binary classification (distaster/non-disaster) using RNNs."
      ],
      "metadata": {
        "id": "Bnmp7sMRCcgK"
      }
    },
    {
      "cell_type": "code",
      "execution_count": 251,
      "metadata": {
        "id": "uGAsS62UCHSk"
      },
      "outputs": [],
      "source": [
        "import matplotlib.pyplot as plt\n",
        "import numpy as np\n",
        "#import keras\n",
        "from keras.losses import BinaryCrossentropy\n",
        "from keras.models import Sequential\n",
        "from keras.layers import Embedding, SimpleRNN, GRU, LSTM, Dense, Flatten\n",
        "from keras.callbacks import ModelCheckpoint\n",
        "from keras.metrics import Accuracy, Precision, Recall, AUC, MeanSquaredError, SpecificityAtSensitivity\n",
        "import math\n",
        "import pandas as pd\n",
        "import shutil #For moving files in Google Drive\n",
        "from sklearn.model_selection import train_test_split\n",
        "from sklearn.metrics import precision_score\n",
        "import keras"
      ]
    },
    {
      "cell_type": "code",
      "source": [
        "import os\n",
        "\n",
        "os.environ['KAGGLE_USERNAME'] = \"codingpenguins\" # username from the json file\n",
        "os.environ['KAGGLE_KEY'] = \"f3fb1744db746bed654a7c928b0122f3\" # key from the json file\n",
        "!kaggle competitions download -c nlp-getting-started\n",
        "!unzip -n \"/content/nlp-getting-started.zip\""
      ],
      "metadata": {
        "colab": {
          "base_uri": "https://localhost:8080/"
        },
        "id": "Qe6r9Ex0GWTS",
        "outputId": "fafbd6c9-889c-4cc3-950c-faeafaed98e7"
      },
      "execution_count": 2,
      "outputs": [
        {
          "output_type": "stream",
          "name": "stdout",
          "text": [
            "Downloading nlp-getting-started.zip to /content\n",
            "100% 593k/593k [00:00<00:00, 756kB/s]\n",
            "100% 593k/593k [00:00<00:00, 756kB/s]\n",
            "Archive:  /content/nlp-getting-started.zip\n",
            "  inflating: sample_submission.csv   \n",
            "  inflating: test.csv                \n",
            "  inflating: train.csv               \n"
          ]
        }
      ]
    },
    {
      "cell_type": "code",
      "source": [
        "df_train = pd.read_csv(\"/content/train.csv\")\n",
        "df_test = pd.read_csv(\"/content/test.csv\")"
      ],
      "metadata": {
        "id": "TMWOO46jGvGa"
      },
      "execution_count": 3,
      "outputs": []
    },
    {
      "cell_type": "markdown",
      "source": [
        "## EDA"
      ],
      "metadata": {
        "id": "wDfJv9rpYjJy"
      }
    },
    {
      "cell_type": "markdown",
      "source": [
        "How does our tweet data look like - or rather, how has it been preprocesseed in the provided csv file?"
      ],
      "metadata": {
        "id": "njzthFHBYosX"
      }
    },
    {
      "cell_type": "code",
      "source": [
        "(df_train).head()"
      ],
      "metadata": {
        "colab": {
          "base_uri": "https://localhost:8080/",
          "height": 206
        },
        "id": "7iQvmhmSHP33",
        "outputId": "08779f48-7e99-4c31-f9d0-6ebde65a9700"
      },
      "execution_count": 4,
      "outputs": [
        {
          "output_type": "execute_result",
          "data": {
            "text/plain": [
              "   id keyword location                                               text  \\\n",
              "0   1     NaN      NaN  Our Deeds are the Reason of this #earthquake M...   \n",
              "1   4     NaN      NaN             Forest fire near La Ronge Sask. Canada   \n",
              "2   5     NaN      NaN  All residents asked to 'shelter in place' are ...   \n",
              "3   6     NaN      NaN  13,000 people receive #wildfires evacuation or...   \n",
              "4   7     NaN      NaN  Just got sent this photo from Ruby #Alaska as ...   \n",
              "\n",
              "   target  \n",
              "0       1  \n",
              "1       1  \n",
              "2       1  \n",
              "3       1  \n",
              "4       1  "
            ],
            "text/html": [
              "\n",
              "  <div id=\"df-6f47d1f8-985f-483f-afeb-1bf6c9cb5b5a\" class=\"colab-df-container\">\n",
              "    <div>\n",
              "<style scoped>\n",
              "    .dataframe tbody tr th:only-of-type {\n",
              "        vertical-align: middle;\n",
              "    }\n",
              "\n",
              "    .dataframe tbody tr th {\n",
              "        vertical-align: top;\n",
              "    }\n",
              "\n",
              "    .dataframe thead th {\n",
              "        text-align: right;\n",
              "    }\n",
              "</style>\n",
              "<table border=\"1\" class=\"dataframe\">\n",
              "  <thead>\n",
              "    <tr style=\"text-align: right;\">\n",
              "      <th></th>\n",
              "      <th>id</th>\n",
              "      <th>keyword</th>\n",
              "      <th>location</th>\n",
              "      <th>text</th>\n",
              "      <th>target</th>\n",
              "    </tr>\n",
              "  </thead>\n",
              "  <tbody>\n",
              "    <tr>\n",
              "      <th>0</th>\n",
              "      <td>1</td>\n",
              "      <td>NaN</td>\n",
              "      <td>NaN</td>\n",
              "      <td>Our Deeds are the Reason of this #earthquake M...</td>\n",
              "      <td>1</td>\n",
              "    </tr>\n",
              "    <tr>\n",
              "      <th>1</th>\n",
              "      <td>4</td>\n",
              "      <td>NaN</td>\n",
              "      <td>NaN</td>\n",
              "      <td>Forest fire near La Ronge Sask. Canada</td>\n",
              "      <td>1</td>\n",
              "    </tr>\n",
              "    <tr>\n",
              "      <th>2</th>\n",
              "      <td>5</td>\n",
              "      <td>NaN</td>\n",
              "      <td>NaN</td>\n",
              "      <td>All residents asked to 'shelter in place' are ...</td>\n",
              "      <td>1</td>\n",
              "    </tr>\n",
              "    <tr>\n",
              "      <th>3</th>\n",
              "      <td>6</td>\n",
              "      <td>NaN</td>\n",
              "      <td>NaN</td>\n",
              "      <td>13,000 people receive #wildfires evacuation or...</td>\n",
              "      <td>1</td>\n",
              "    </tr>\n",
              "    <tr>\n",
              "      <th>4</th>\n",
              "      <td>7</td>\n",
              "      <td>NaN</td>\n",
              "      <td>NaN</td>\n",
              "      <td>Just got sent this photo from Ruby #Alaska as ...</td>\n",
              "      <td>1</td>\n",
              "    </tr>\n",
              "  </tbody>\n",
              "</table>\n",
              "</div>\n",
              "    <div class=\"colab-df-buttons\">\n",
              "\n",
              "  <div class=\"colab-df-container\">\n",
              "    <button class=\"colab-df-convert\" onclick=\"convertToInteractive('df-6f47d1f8-985f-483f-afeb-1bf6c9cb5b5a')\"\n",
              "            title=\"Convert this dataframe to an interactive table.\"\n",
              "            style=\"display:none;\">\n",
              "\n",
              "  <svg xmlns=\"http://www.w3.org/2000/svg\" height=\"24px\" viewBox=\"0 -960 960 960\">\n",
              "    <path d=\"M120-120v-720h720v720H120Zm60-500h600v-160H180v160Zm220 220h160v-160H400v160Zm0 220h160v-160H400v160ZM180-400h160v-160H180v160Zm440 0h160v-160H620v160ZM180-180h160v-160H180v160Zm440 0h160v-160H620v160Z\"/>\n",
              "  </svg>\n",
              "    </button>\n",
              "\n",
              "  <style>\n",
              "    .colab-df-container {\n",
              "      display:flex;\n",
              "      gap: 12px;\n",
              "    }\n",
              "\n",
              "    .colab-df-convert {\n",
              "      background-color: #E8F0FE;\n",
              "      border: none;\n",
              "      border-radius: 50%;\n",
              "      cursor: pointer;\n",
              "      display: none;\n",
              "      fill: #1967D2;\n",
              "      height: 32px;\n",
              "      padding: 0 0 0 0;\n",
              "      width: 32px;\n",
              "    }\n",
              "\n",
              "    .colab-df-convert:hover {\n",
              "      background-color: #E2EBFA;\n",
              "      box-shadow: 0px 1px 2px rgba(60, 64, 67, 0.3), 0px 1px 3px 1px rgba(60, 64, 67, 0.15);\n",
              "      fill: #174EA6;\n",
              "    }\n",
              "\n",
              "    .colab-df-buttons div {\n",
              "      margin-bottom: 4px;\n",
              "    }\n",
              "\n",
              "    [theme=dark] .colab-df-convert {\n",
              "      background-color: #3B4455;\n",
              "      fill: #D2E3FC;\n",
              "    }\n",
              "\n",
              "    [theme=dark] .colab-df-convert:hover {\n",
              "      background-color: #434B5C;\n",
              "      box-shadow: 0px 1px 3px 1px rgba(0, 0, 0, 0.15);\n",
              "      filter: drop-shadow(0px 1px 2px rgba(0, 0, 0, 0.3));\n",
              "      fill: #FFFFFF;\n",
              "    }\n",
              "  </style>\n",
              "\n",
              "    <script>\n",
              "      const buttonEl =\n",
              "        document.querySelector('#df-6f47d1f8-985f-483f-afeb-1bf6c9cb5b5a button.colab-df-convert');\n",
              "      buttonEl.style.display =\n",
              "        google.colab.kernel.accessAllowed ? 'block' : 'none';\n",
              "\n",
              "      async function convertToInteractive(key) {\n",
              "        const element = document.querySelector('#df-6f47d1f8-985f-483f-afeb-1bf6c9cb5b5a');\n",
              "        const dataTable =\n",
              "          await google.colab.kernel.invokeFunction('convertToInteractive',\n",
              "                                                    [key], {});\n",
              "        if (!dataTable) return;\n",
              "\n",
              "        const docLinkHtml = 'Like what you see? Visit the ' +\n",
              "          '<a target=\"_blank\" href=https://colab.research.google.com/notebooks/data_table.ipynb>data table notebook</a>'\n",
              "          + ' to learn more about interactive tables.';\n",
              "        element.innerHTML = '';\n",
              "        dataTable['output_type'] = 'display_data';\n",
              "        await google.colab.output.renderOutput(dataTable, element);\n",
              "        const docLink = document.createElement('div');\n",
              "        docLink.innerHTML = docLinkHtml;\n",
              "        element.appendChild(docLink);\n",
              "      }\n",
              "    </script>\n",
              "  </div>\n",
              "\n",
              "\n",
              "<div id=\"df-acfbdb56-a640-4fca-ae81-8131294970c1\">\n",
              "  <button class=\"colab-df-quickchart\" onclick=\"quickchart('df-acfbdb56-a640-4fca-ae81-8131294970c1')\"\n",
              "            title=\"Suggest charts\"\n",
              "            style=\"display:none;\">\n",
              "\n",
              "<svg xmlns=\"http://www.w3.org/2000/svg\" height=\"24px\"viewBox=\"0 0 24 24\"\n",
              "     width=\"24px\">\n",
              "    <g>\n",
              "        <path d=\"M19 3H5c-1.1 0-2 .9-2 2v14c0 1.1.9 2 2 2h14c1.1 0 2-.9 2-2V5c0-1.1-.9-2-2-2zM9 17H7v-7h2v7zm4 0h-2V7h2v10zm4 0h-2v-4h2v4z\"/>\n",
              "    </g>\n",
              "</svg>\n",
              "  </button>\n",
              "\n",
              "<style>\n",
              "  .colab-df-quickchart {\n",
              "      --bg-color: #E8F0FE;\n",
              "      --fill-color: #1967D2;\n",
              "      --hover-bg-color: #E2EBFA;\n",
              "      --hover-fill-color: #174EA6;\n",
              "      --disabled-fill-color: #AAA;\n",
              "      --disabled-bg-color: #DDD;\n",
              "  }\n",
              "\n",
              "  [theme=dark] .colab-df-quickchart {\n",
              "      --bg-color: #3B4455;\n",
              "      --fill-color: #D2E3FC;\n",
              "      --hover-bg-color: #434B5C;\n",
              "      --hover-fill-color: #FFFFFF;\n",
              "      --disabled-bg-color: #3B4455;\n",
              "      --disabled-fill-color: #666;\n",
              "  }\n",
              "\n",
              "  .colab-df-quickchart {\n",
              "    background-color: var(--bg-color);\n",
              "    border: none;\n",
              "    border-radius: 50%;\n",
              "    cursor: pointer;\n",
              "    display: none;\n",
              "    fill: var(--fill-color);\n",
              "    height: 32px;\n",
              "    padding: 0;\n",
              "    width: 32px;\n",
              "  }\n",
              "\n",
              "  .colab-df-quickchart:hover {\n",
              "    background-color: var(--hover-bg-color);\n",
              "    box-shadow: 0 1px 2px rgba(60, 64, 67, 0.3), 0 1px 3px 1px rgba(60, 64, 67, 0.15);\n",
              "    fill: var(--button-hover-fill-color);\n",
              "  }\n",
              "\n",
              "  .colab-df-quickchart-complete:disabled,\n",
              "  .colab-df-quickchart-complete:disabled:hover {\n",
              "    background-color: var(--disabled-bg-color);\n",
              "    fill: var(--disabled-fill-color);\n",
              "    box-shadow: none;\n",
              "  }\n",
              "\n",
              "  .colab-df-spinner {\n",
              "    border: 2px solid var(--fill-color);\n",
              "    border-color: transparent;\n",
              "    border-bottom-color: var(--fill-color);\n",
              "    animation:\n",
              "      spin 1s steps(1) infinite;\n",
              "  }\n",
              "\n",
              "  @keyframes spin {\n",
              "    0% {\n",
              "      border-color: transparent;\n",
              "      border-bottom-color: var(--fill-color);\n",
              "      border-left-color: var(--fill-color);\n",
              "    }\n",
              "    20% {\n",
              "      border-color: transparent;\n",
              "      border-left-color: var(--fill-color);\n",
              "      border-top-color: var(--fill-color);\n",
              "    }\n",
              "    30% {\n",
              "      border-color: transparent;\n",
              "      border-left-color: var(--fill-color);\n",
              "      border-top-color: var(--fill-color);\n",
              "      border-right-color: var(--fill-color);\n",
              "    }\n",
              "    40% {\n",
              "      border-color: transparent;\n",
              "      border-right-color: var(--fill-color);\n",
              "      border-top-color: var(--fill-color);\n",
              "    }\n",
              "    60% {\n",
              "      border-color: transparent;\n",
              "      border-right-color: var(--fill-color);\n",
              "    }\n",
              "    80% {\n",
              "      border-color: transparent;\n",
              "      border-right-color: var(--fill-color);\n",
              "      border-bottom-color: var(--fill-color);\n",
              "    }\n",
              "    90% {\n",
              "      border-color: transparent;\n",
              "      border-bottom-color: var(--fill-color);\n",
              "    }\n",
              "  }\n",
              "</style>\n",
              "\n",
              "  <script>\n",
              "    async function quickchart(key) {\n",
              "      const quickchartButtonEl =\n",
              "        document.querySelector('#' + key + ' button');\n",
              "      quickchartButtonEl.disabled = true;  // To prevent multiple clicks.\n",
              "      quickchartButtonEl.classList.add('colab-df-spinner');\n",
              "      try {\n",
              "        const charts = await google.colab.kernel.invokeFunction(\n",
              "            'suggestCharts', [key], {});\n",
              "      } catch (error) {\n",
              "        console.error('Error during call to suggestCharts:', error);\n",
              "      }\n",
              "      quickchartButtonEl.classList.remove('colab-df-spinner');\n",
              "      quickchartButtonEl.classList.add('colab-df-quickchart-complete');\n",
              "    }\n",
              "    (() => {\n",
              "      let quickchartButtonEl =\n",
              "        document.querySelector('#df-acfbdb56-a640-4fca-ae81-8131294970c1 button');\n",
              "      quickchartButtonEl.style.display =\n",
              "        google.colab.kernel.accessAllowed ? 'block' : 'none';\n",
              "    })();\n",
              "  </script>\n",
              "</div>\n",
              "    </div>\n",
              "  </div>\n"
            ],
            "application/vnd.google.colaboratory.intrinsic+json": {
              "type": "dataframe",
              "repr_error": "Out of range float values are not JSON compliant: nan"
            }
          },
          "metadata": {},
          "execution_count": 4
        }
      ]
    },
    {
      "cell_type": "code",
      "source": [
        "df_train.shape"
      ],
      "metadata": {
        "colab": {
          "base_uri": "https://localhost:8080/"
        },
        "id": "XIDs_2fGYxKD",
        "outputId": "d840d86a-f05d-4ad4-d15d-9f80e1f4419f"
      },
      "execution_count": 5,
      "outputs": [
        {
          "output_type": "execute_result",
          "data": {
            "text/plain": [
              "(7613, 5)"
            ]
          },
          "metadata": {},
          "execution_count": 5
        }
      ]
    },
    {
      "cell_type": "markdown",
      "source": [
        "So, we see that we have 7613 entries in total, provided with a leading id, the text corpus and the target binary classification of 1 (disaster tweet) or 0 (not disaster tweet). We also have a keyword and location provided, although we can immediately see that these are not registered for every tweet. But let us focus on the distribution of both labels within the data first:"
      ],
      "metadata": {
        "id": "-I3awYmlY0Nf"
      }
    },
    {
      "cell_type": "code",
      "source": [
        "print(\"The dataset contains \", len(df_train[df_train[\"target\"]==1]), \" tweets flagged as a disaster tweet and \", len(df_train[df_train[\"target\"]==0]), \" tweets flagged as not a distaster tweet.\")"
      ],
      "metadata": {
        "colab": {
          "base_uri": "https://localhost:8080/"
        },
        "id": "R3KPsTPbXyVU",
        "outputId": "5f993113-390d-4d58-8cd5-1fde24dc8860"
      },
      "execution_count": 6,
      "outputs": [
        {
          "output_type": "stream",
          "name": "stdout",
          "text": [
            "The dataset contains  3271  tweets flagged as a disaster tweet and  4342  tweets flagged as not a distaster tweet.\n"
          ]
        }
      ]
    },
    {
      "cell_type": "code",
      "source": [
        "plt.hist(df_train[\"target\"])"
      ],
      "metadata": {
        "colab": {
          "base_uri": "https://localhost:8080/",
          "height": 501
        },
        "id": "aCYs32vjX_6-",
        "outputId": "eb2f0009-7c17-40a0-b71d-131c1563b1ed"
      },
      "execution_count": 7,
      "outputs": [
        {
          "output_type": "execute_result",
          "data": {
            "text/plain": [
              "(array([4342.,    0.,    0.,    0.,    0.,    0.,    0.,    0.,    0.,\n",
              "        3271.]),\n",
              " array([0. , 0.1, 0.2, 0.3, 0.4, 0.5, 0.6, 0.7, 0.8, 0.9, 1. ]),\n",
              " <BarContainer object of 10 artists>)"
            ]
          },
          "metadata": {},
          "execution_count": 7
        },
        {
          "output_type": "display_data",
          "data": {
            "text/plain": [
              "<Figure size 640x480 with 1 Axes>"
            ],
            "image/png": "[encoded data removed]"
          },
          "metadata": {}
        }
      ]
    },
    {
      "cell_type": "code",
      "source": [
        "print(\"This leads to an asymmetry ratio of: \", len(df_train[df_train[\"target\"]==1])/len(df_train[df_train[\"target\"]==0]))"
      ],
      "metadata": {
        "colab": {
          "base_uri": "https://localhost:8080/"
        },
        "id": "k7AHkxyWYZYi",
        "outputId": "8147fff6-2d96-4ec8-fed7-12b279440e3c"
      },
      "execution_count": 8,
      "outputs": [
        {
          "output_type": "stream",
          "name": "stdout",
          "text": [
            "This leads to an asymmetry ratio of:  0.7533394748963611\n"
          ]
        }
      ]
    },
    {
      "cell_type": "markdown",
      "source": [
        "So, as we can see, we have a bias towards non-disaster tweets. If we naively use these without taking measures to compensate for class imbalance or monitoring metrics that indicate e. g. the occurrence of type 2 errors, we might fall into the trap of accidentally classifiying disaster tweets more often as non-disaster as the other way around. We might monitor recall and precision for this purpose in addition to accuracy."
      ],
      "metadata": {
        "id": "PgdrOUWwZVvB"
      }
    },
    {
      "cell_type": "markdown",
      "source": [
        "Now how about the other categories in the dataframe? What else do we have here instead of Nan values?"
      ],
      "metadata": {
        "id": "mVNe1E9MasrQ"
      }
    },
    {
      "cell_type": "code",
      "source": [
        "df_train[\"keyword\"].unique()\n"
      ],
      "metadata": {
        "colab": {
          "base_uri": "https://localhost:8080/"
        },
        "id": "wP3Lk07Oarvq",
        "outputId": "ad527870-2c19-4a0a-e859-16ca984664a7"
      },
      "execution_count": 9,
      "outputs": [
        {
          "output_type": "execute_result",
          "data": {
            "text/plain": [
              "array([nan, 'ablaze', 'accident', 'aftershock', 'airplane%20accident',\n",
              "       'ambulance', 'annihilated', 'annihilation', 'apocalypse',\n",
              "       'armageddon', 'army', 'arson', 'arsonist', 'attack', 'attacked',\n",
              "       'avalanche', 'battle', 'bioterror', 'bioterrorism', 'blaze',\n",
              "       'blazing', 'bleeding', 'blew%20up', 'blight', 'blizzard', 'blood',\n",
              "       'bloody', 'blown%20up', 'body%20bag', 'body%20bagging',\n",
              "       'body%20bags', 'bomb', 'bombed', 'bombing', 'bridge%20collapse',\n",
              "       'buildings%20burning', 'buildings%20on%20fire', 'burned',\n",
              "       'burning', 'burning%20buildings', 'bush%20fires', 'casualties',\n",
              "       'casualty', 'catastrophe', 'catastrophic', 'chemical%20emergency',\n",
              "       'cliff%20fall', 'collapse', 'collapsed', 'collide', 'collided',\n",
              "       'collision', 'crash', 'crashed', 'crush', 'crushed', 'curfew',\n",
              "       'cyclone', 'damage', 'danger', 'dead', 'death', 'deaths', 'debris',\n",
              "       'deluge', 'deluged', 'demolish', 'demolished', 'demolition',\n",
              "       'derail', 'derailed', 'derailment', 'desolate', 'desolation',\n",
              "       'destroy', 'destroyed', 'destruction', 'detonate', 'detonation',\n",
              "       'devastated', 'devastation', 'disaster', 'displaced', 'drought',\n",
              "       'drown', 'drowned', 'drowning', 'dust%20storm', 'earthquake',\n",
              "       'electrocute', 'electrocuted', 'emergency', 'emergency%20plan',\n",
              "       'emergency%20services', 'engulfed', 'epicentre', 'evacuate',\n",
              "       'evacuated', 'evacuation', 'explode', 'exploded', 'explosion',\n",
              "       'eyewitness', 'famine', 'fatal', 'fatalities', 'fatality', 'fear',\n",
              "       'fire', 'fire%20truck', 'first%20responders', 'flames',\n",
              "       'flattened', 'flood', 'flooding', 'floods', 'forest%20fire',\n",
              "       'forest%20fires', 'hail', 'hailstorm', 'harm', 'hazard',\n",
              "       'hazardous', 'heat%20wave', 'hellfire', 'hijack', 'hijacker',\n",
              "       'hijacking', 'hostage', 'hostages', 'hurricane', 'injured',\n",
              "       'injuries', 'injury', 'inundated', 'inundation', 'landslide',\n",
              "       'lava', 'lightning', 'loud%20bang', 'mass%20murder',\n",
              "       'mass%20murderer', 'massacre', 'mayhem', 'meltdown', 'military',\n",
              "       'mudslide', 'natural%20disaster', 'nuclear%20disaster',\n",
              "       'nuclear%20reactor', 'obliterate', 'obliterated', 'obliteration',\n",
              "       'oil%20spill', 'outbreak', 'pandemonium', 'panic', 'panicking',\n",
              "       'police', 'quarantine', 'quarantined', 'radiation%20emergency',\n",
              "       'rainstorm', 'razed', 'refugees', 'rescue', 'rescued', 'rescuers',\n",
              "       'riot', 'rioting', 'rubble', 'ruin', 'sandstorm', 'screamed',\n",
              "       'screaming', 'screams', 'seismic', 'sinkhole', 'sinking', 'siren',\n",
              "       'sirens', 'smoke', 'snowstorm', 'storm', 'stretcher',\n",
              "       'structural%20failure', 'suicide%20bomb', 'suicide%20bomber',\n",
              "       'suicide%20bombing', 'sunk', 'survive', 'survived', 'survivors',\n",
              "       'terrorism', 'terrorist', 'threat', 'thunder', 'thunderstorm',\n",
              "       'tornado', 'tragedy', 'trapped', 'trauma', 'traumatised',\n",
              "       'trouble', 'tsunami', 'twister', 'typhoon', 'upheaval',\n",
              "       'violent%20storm', 'volcano', 'war%20zone', 'weapon', 'weapons',\n",
              "       'whirlwind', 'wild%20fires', 'wildfire', 'windstorm', 'wounded',\n",
              "       'wounds', 'wreck', 'wreckage', 'wrecked'], dtype=object)"
            ]
          },
          "metadata": {},
          "execution_count": 9
        }
      ]
    },
    {
      "cell_type": "markdown",
      "source": [
        "So, these keywords provided with the tweet might be helpful - if we have enough of them in the data not to overtrain on missing or nan values (or we could justify dropping the tweets not having a category). Let's see:"
      ],
      "metadata": {
        "id": "lXd3VK5Icbjq"
      }
    },
    {
      "cell_type": "code",
      "source": [
        "df_train[\"keyword\"].isnull().values.sum()"
      ],
      "metadata": {
        "colab": {
          "base_uri": "https://localhost:8080/"
        },
        "id": "5GaPFH7_clYu",
        "outputId": "c8c34ed8-b768-4676-d7cb-027d78b82e7e"
      },
      "execution_count": 10,
      "outputs": [
        {
          "output_type": "execute_result",
          "data": {
            "text/plain": [
              "61"
            ]
          },
          "metadata": {},
          "execution_count": 10
        }
      ]
    },
    {
      "cell_type": "markdown",
      "source": [
        "Well, that is less than 1% of our training data. We should definitely retain the keyword information, e. g. by dropping the 61 keyword less tweets. How about the location a tweet was sent from - is this helpful? We could anticipate that this might help the classification (e. g. regions prone to forest fires or earthquakes have a higher chance of being a disaster tweet using the same language as regions less frequently affected by such catastrophes)."
      ],
      "metadata": {
        "id": "GH2t2lYudhmT"
      }
    },
    {
      "cell_type": "code",
      "source": [
        "df_train[\"location\"].unique()"
      ],
      "metadata": {
        "colab": {
          "base_uri": "https://localhost:8080/"
        },
        "id": "_rR0o5MSe92A",
        "outputId": "10d3d18c-064e-4ca8-d346-dc973b997774"
      },
      "execution_count": 11,
      "outputs": [
        {
          "output_type": "execute_result",
          "data": {
            "text/plain": [
              "array([nan, 'Birmingham', 'Est. September 2012 - Bristol', ...,\n",
              "       'Vancouver, Canada', 'London ', 'Lincoln'], dtype=object)"
            ]
          },
          "metadata": {},
          "execution_count": 11
        }
      ]
    },
    {
      "cell_type": "code",
      "source": [
        "df_train[\"location\"].isnull().values.sum()"
      ],
      "metadata": {
        "colab": {
          "base_uri": "https://localhost:8080/"
        },
        "id": "i7qegbgAe8y_",
        "outputId": "9dacd17e-2e71-4e35-bb20-f822777f2c59"
      },
      "execution_count": 12,
      "outputs": [
        {
          "output_type": "execute_result",
          "data": {
            "text/plain": [
              "2533"
            ]
          },
          "metadata": {},
          "execution_count": 12
        }
      ]
    },
    {
      "cell_type": "code",
      "source": [
        "print(\"Tweets without a location make up a total of \", 100*df_train[\"location\"].isnull().values.sum()/len(df_train[\"location\"]), \"% our total training tweets\")"
      ],
      "metadata": {
        "colab": {
          "base_uri": "https://localhost:8080/"
        },
        "id": "tMFkeWIafCws",
        "outputId": "23e1aa33-f87b-441b-bcb6-18128073c4ae"
      },
      "execution_count": 13,
      "outputs": [
        {
          "output_type": "stream",
          "name": "stdout",
          "text": [
            "Tweets without a location make up a total of  33.27203467752528 % our total training tweets\n"
          ]
        }
      ]
    },
    {
      "cell_type": "markdown",
      "source": [
        "Well, that  is a lot - dropping tweets contain NaN values is out of the question. We could still try to train on the nan values as well. But how many unique values do we have?"
      ],
      "metadata": {
        "id": "UVN8Z8FVfTd0"
      }
    },
    {
      "cell_type": "code",
      "source": [
        "len(df_train[\"location\"].unique())"
      ],
      "metadata": {
        "colab": {
          "base_uri": "https://localhost:8080/"
        },
        "id": "10OkfEjcfn3H",
        "outputId": "2f083fab-7d50-4824-b3cc-464d46b7414c"
      },
      "execution_count": 14,
      "outputs": [
        {
          "output_type": "execute_result",
          "data": {
            "text/plain": [
              "3342"
            ]
          },
          "metadata": {},
          "execution_count": 14
        }
      ]
    },
    {
      "cell_type": "markdown",
      "source": [
        "Well, it appears as if locations are rather unique or seldomly used multiple times. As such, we should rather drop it from our dataframe."
      ],
      "metadata": {
        "id": "rEY26T6xfrWo"
      }
    },
    {
      "cell_type": "code",
      "source": [
        "df_train2 = df_train.drop([\"location\"], axis=1)"
      ],
      "metadata": {
        "id": "7-85my3lf0za"
      },
      "execution_count": 15,
      "outputs": []
    },
    {
      "cell_type": "markdown",
      "source": [
        "Now to drop the 61 keyword less tweets:"
      ],
      "metadata": {
        "id": "vgvheuU8hqgp"
      }
    },
    {
      "cell_type": "code",
      "source": [
        "df_train3 = df_train2.drop(df_train2[df_train2[\"keyword\"].isnull()].index)"
      ],
      "metadata": {
        "id": "1bMUGiYLgjPy"
      },
      "execution_count": 16,
      "outputs": []
    },
    {
      "cell_type": "code",
      "source": [
        "(df_train3)"
      ],
      "metadata": {
        "colab": {
          "base_uri": "https://localhost:8080/",
          "height": 424
        },
        "id": "LimUs3R5f-23",
        "outputId": "6059a703-c3db-4d81-c775-8871fbaf1899"
      },
      "execution_count": 17,
      "outputs": [
        {
          "output_type": "execute_result",
          "data": {
            "text/plain": [
              "         id  keyword                                               text  \\\n",
              "31       48   ablaze  @bbcmtd Wholesale Markets ablaze http://t.co/l...   \n",
              "32       49   ablaze  We always try to bring the heavy. #metal #RT h...   \n",
              "33       50   ablaze  #AFRICANBAZE: Breaking news:Nigeria flag set a...   \n",
              "34       52   ablaze                 Crying out for more! Set me ablaze   \n",
              "35       53   ablaze  On plus side LOOK AT THE SKY LAST NIGHT IT WAS...   \n",
              "...     ...      ...                                                ...   \n",
              "7578  10830  wrecked   @jt_ruff23 @cameronhacker and I wrecked you both   \n",
              "7579  10831  wrecked  Three days off from work and they've pretty mu...   \n",
              "7580  10832  wrecked  #FX #forex #trading Cramer: Iger's 3 words tha...   \n",
              "7581  10833  wrecked  @engineshed Great atmosphere at the British Li...   \n",
              "7582  10834  wrecked  Cramer: Iger's 3 words that wrecked Disney's s...   \n",
              "\n",
              "      target  \n",
              "31         1  \n",
              "32         0  \n",
              "33         1  \n",
              "34         0  \n",
              "35         0  \n",
              "...      ...  \n",
              "7578       0  \n",
              "7579       0  \n",
              "7580       0  \n",
              "7581       0  \n",
              "7582       0  \n",
              "\n",
              "[7552 rows x 4 columns]"
            ],
            "text/html": [
              "\n",
              "  <div id=\"df-8f077bfc-4dac-4d99-b1ec-0590ad526a7f\" class=\"colab-df-container\">\n",
              "    <div>\n",
              "<style scoped>\n",
              "    .dataframe tbody tr th:only-of-type {\n",
              "        vertical-align: middle;\n",
              "    }\n",
              "\n",
              "    .dataframe tbody tr th {\n",
              "        vertical-align: top;\n",
              "    }\n",
              "\n",
              "    .dataframe thead th {\n",
              "        text-align: right;\n",
              "    }\n",
              "</style>\n",
              "<table border=\"1\" class=\"dataframe\">\n",
              "  <thead>\n",
              "    <tr style=\"text-align: right;\">\n",
              "      <th></th>\n",
              "      <th>id</th>\n",
              "      <th>keyword</th>\n",
              "      <th>text</th>\n",
              "      <th>target</th>\n",
              "    </tr>\n",
              "  </thead>\n",
              "  <tbody>\n",
              "    <tr>\n",
              "      <th>31</th>\n",
              "      <td>48</td>\n",
              "      <td>ablaze</td>\n",
              "      <td>@bbcmtd Wholesale Markets ablaze http://t.co/l...</td>\n",
              "      <td>1</td>\n",
              "    </tr>\n",
              "    <tr>\n",
              "      <th>32</th>\n",
              "      <td>49</td>\n",
              "      <td>ablaze</td>\n",
              "      <td>We always try to bring the heavy. #metal #RT h...</td>\n",
              "      <td>0</td>\n",
              "    </tr>\n",
              "    <tr>\n",
              "      <th>33</th>\n",
              "      <td>50</td>\n",
              "      <td>ablaze</td>\n",
              "      <td>#AFRICANBAZE: Breaking news:Nigeria flag set a...</td>\n",
              "      <td>1</td>\n",
              "    </tr>\n",
              "    <tr>\n",
              "      <th>34</th>\n",
              "      <td>52</td>\n",
              "      <td>ablaze</td>\n",
              "      <td>Crying out for more! Set me ablaze</td>\n",
              "      <td>0</td>\n",
              "    </tr>\n",
              "    <tr>\n",
              "      <th>35</th>\n",
              "      <td>53</td>\n",
              "      <td>ablaze</td>\n",
              "      <td>On plus side LOOK AT THE SKY LAST NIGHT IT WAS...</td>\n",
              "      <td>0</td>\n",
              "    </tr>\n",
              "    <tr>\n",
              "      <th>...</th>\n",
              "      <td>...</td>\n",
              "      <td>...</td>\n",
              "      <td>...</td>\n",
              "      <td>...</td>\n",
              "    </tr>\n",
              "    <tr>\n",
              "      <th>7578</th>\n",
              "      <td>10830</td>\n",
              "      <td>wrecked</td>\n",
              "      <td>@jt_ruff23 @cameronhacker and I wrecked you both</td>\n",
              "      <td>0</td>\n",
              "    </tr>\n",
              "    <tr>\n",
              "      <th>7579</th>\n",
              "      <td>10831</td>\n",
              "      <td>wrecked</td>\n",
              "      <td>Three days off from work and they've pretty mu...</td>\n",
              "      <td>0</td>\n",
              "    </tr>\n",
              "    <tr>\n",
              "      <th>7580</th>\n",
              "      <td>10832</td>\n",
              "      <td>wrecked</td>\n",
              "      <td>#FX #forex #trading Cramer: Iger's 3 words tha...</td>\n",
              "      <td>0</td>\n",
              "    </tr>\n",
              "    <tr>\n",
              "      <th>7581</th>\n",
              "      <td>10833</td>\n",
              "      <td>wrecked</td>\n",
              "      <td>@engineshed Great atmosphere at the British Li...</td>\n",
              "      <td>0</td>\n",
              "    </tr>\n",
              "    <tr>\n",
              "      <th>7582</th>\n",
              "      <td>10834</td>\n",
              "      <td>wrecked</td>\n",
              "      <td>Cramer: Iger's 3 words that wrecked Disney's s...</td>\n",
              "      <td>0</td>\n",
              "    </tr>\n",
              "  </tbody>\n",
              "</table>\n",
              "<p>7552 rows × 4 columns</p>\n",
              "</div>\n",
              "    <div class=\"colab-df-buttons\">\n",
              "\n",
              "  <div class=\"colab-df-container\">\n",
              "    <button class=\"colab-df-convert\" onclick=\"convertToInteractive('df-8f077bfc-4dac-4d99-b1ec-0590ad526a7f')\"\n",
              "            title=\"Convert this dataframe to an interactive table.\"\n",
              "            style=\"display:none;\">\n",
              "\n",
              "  <svg xmlns=\"http://www.w3.org/2000/svg\" height=\"24px\" viewBox=\"0 -960 960 960\">\n",
              "    <path d=\"M120-120v-720h720v720H120Zm60-500h600v-160H180v160Zm220 220h160v-160H400v160Zm0 220h160v-160H400v160ZM180-400h160v-160H180v160Zm440 0h160v-160H620v160ZM180-180h160v-160H180v160Zm440 0h160v-160H620v160Z\"/>\n",
              "  </svg>\n",
              "    </button>\n",
              "\n",
              "  <style>\n",
              "    .colab-df-container {\n",
              "      display:flex;\n",
              "      gap: 12px;\n",
              "    }\n",
              "\n",
              "    .colab-df-convert {\n",
              "      background-color: #E8F0FE;\n",
              "      border: none;\n",
              "      border-radius: 50%;\n",
              "      cursor: pointer;\n",
              "      display: none;\n",
              "      fill: #1967D2;\n",
              "      height: 32px;\n",
              "      padding: 0 0 0 0;\n",
              "      width: 32px;\n",
              "    }\n",
              "\n",
              "    .colab-df-convert:hover {\n",
              "      background-color: #E2EBFA;\n",
              "      box-shadow: 0px 1px 2px rgba(60, 64, 67, 0.3), 0px 1px 3px 1px rgba(60, 64, 67, 0.15);\n",
              "      fill: #174EA6;\n",
              "    }\n",
              "\n",
              "    .colab-df-buttons div {\n",
              "      margin-bottom: 4px;\n",
              "    }\n",
              "\n",
              "    [theme=dark] .colab-df-convert {\n",
              "      background-color: #3B4455;\n",
              "      fill: #D2E3FC;\n",
              "    }\n",
              "\n",
              "    [theme=dark] .colab-df-convert:hover {\n",
              "      background-color: #434B5C;\n",
              "      box-shadow: 0px 1px 3px 1px rgba(0, 0, 0, 0.15);\n",
              "      filter: drop-shadow(0px 1px 2px rgba(0, 0, 0, 0.3));\n",
              "      fill: #FFFFFF;\n",
              "    }\n",
              "  </style>\n",
              "\n",
              "    <script>\n",
              "      const buttonEl =\n",
              "        document.querySelector('#df-8f077bfc-4dac-4d99-b1ec-0590ad526a7f button.colab-df-convert');\n",
              "      buttonEl.style.display =\n",
              "        google.colab.kernel.accessAllowed ? 'block' : 'none';\n",
              "\n",
              "      async function convertToInteractive(key) {\n",
              "        const element = document.querySelector('#df-8f077bfc-4dac-4d99-b1ec-0590ad526a7f');\n",
              "        const dataTable =\n",
              "          await google.colab.kernel.invokeFunction('convertToInteractive',\n",
              "                                                    [key], {});\n",
              "        if (!dataTable) return;\n",
              "\n",
              "        const docLinkHtml = 'Like what you see? Visit the ' +\n",
              "          '<a target=\"_blank\" href=https://colab.research.google.com/notebooks/data_table.ipynb>data table notebook</a>'\n",
              "          + ' to learn more about interactive tables.';\n",
              "        element.innerHTML = '';\n",
              "        dataTable['output_type'] = 'display_data';\n",
              "        await google.colab.output.renderOutput(dataTable, element);\n",
              "        const docLink = document.createElement('div');\n",
              "        docLink.innerHTML = docLinkHtml;\n",
              "        element.appendChild(docLink);\n",
              "      }\n",
              "    </script>\n",
              "  </div>\n",
              "\n",
              "\n",
              "<div id=\"df-69056bb4-89a4-4961-b944-b41efbaee48b\">\n",
              "  <button class=\"colab-df-quickchart\" onclick=\"quickchart('df-69056bb4-89a4-4961-b944-b41efbaee48b')\"\n",
              "            title=\"Suggest charts\"\n",
              "            style=\"display:none;\">\n",
              "\n",
              "<svg xmlns=\"http://www.w3.org/2000/svg\" height=\"24px\"viewBox=\"0 0 24 24\"\n",
              "     width=\"24px\">\n",
              "    <g>\n",
              "        <path d=\"M19 3H5c-1.1 0-2 .9-2 2v14c0 1.1.9 2 2 2h14c1.1 0 2-.9 2-2V5c0-1.1-.9-2-2-2zM9 17H7v-7h2v7zm4 0h-2V7h2v10zm4 0h-2v-4h2v4z\"/>\n",
              "    </g>\n",
              "</svg>\n",
              "  </button>\n",
              "\n",
              "<style>\n",
              "  .colab-df-quickchart {\n",
              "      --bg-color: #E8F0FE;\n",
              "      --fill-color: #1967D2;\n",
              "      --hover-bg-color: #E2EBFA;\n",
              "      --hover-fill-color: #174EA6;\n",
              "      --disabled-fill-color: #AAA;\n",
              "      --disabled-bg-color: #DDD;\n",
              "  }\n",
              "\n",
              "  [theme=dark] .colab-df-quickchart {\n",
              "      --bg-color: #3B4455;\n",
              "      --fill-color: #D2E3FC;\n",
              "      --hover-bg-color: #434B5C;\n",
              "      --hover-fill-color: #FFFFFF;\n",
              "      --disabled-bg-color: #3B4455;\n",
              "      --disabled-fill-color: #666;\n",
              "  }\n",
              "\n",
              "  .colab-df-quickchart {\n",
              "    background-color: var(--bg-color);\n",
              "    border: none;\n",
              "    border-radius: 50%;\n",
              "    cursor: pointer;\n",
              "    display: none;\n",
              "    fill: var(--fill-color);\n",
              "    height: 32px;\n",
              "    padding: 0;\n",
              "    width: 32px;\n",
              "  }\n",
              "\n",
              "  .colab-df-quickchart:hover {\n",
              "    background-color: var(--hover-bg-color);\n",
              "    box-shadow: 0 1px 2px rgba(60, 64, 67, 0.3), 0 1px 3px 1px rgba(60, 64, 67, 0.15);\n",
              "    fill: var(--button-hover-fill-color);\n",
              "  }\n",
              "\n",
              "  .colab-df-quickchart-complete:disabled,\n",
              "  .colab-df-quickchart-complete:disabled:hover {\n",
              "    background-color: var(--disabled-bg-color);\n",
              "    fill: var(--disabled-fill-color);\n",
              "    box-shadow: none;\n",
              "  }\n",
              "\n",
              "  .colab-df-spinner {\n",
              "    border: 2px solid var(--fill-color);\n",
              "    border-color: transparent;\n",
              "    border-bottom-color: var(--fill-color);\n",
              "    animation:\n",
              "      spin 1s steps(1) infinite;\n",
              "  }\n",
              "\n",
              "  @keyframes spin {\n",
              "    0% {\n",
              "      border-color: transparent;\n",
              "      border-bottom-color: var(--fill-color);\n",
              "      border-left-color: var(--fill-color);\n",
              "    }\n",
              "    20% {\n",
              "      border-color: transparent;\n",
              "      border-left-color: var(--fill-color);\n",
              "      border-top-color: var(--fill-color);\n",
              "    }\n",
              "    30% {\n",
              "      border-color: transparent;\n",
              "      border-left-color: var(--fill-color);\n",
              "      border-top-color: var(--fill-color);\n",
              "      border-right-color: var(--fill-color);\n",
              "    }\n",
              "    40% {\n",
              "      border-color: transparent;\n",
              "      border-right-color: var(--fill-color);\n",
              "      border-top-color: var(--fill-color);\n",
              "    }\n",
              "    60% {\n",
              "      border-color: transparent;\n",
              "      border-right-color: var(--fill-color);\n",
              "    }\n",
              "    80% {\n",
              "      border-color: transparent;\n",
              "      border-right-color: var(--fill-color);\n",
              "      border-bottom-color: var(--fill-color);\n",
              "    }\n",
              "    90% {\n",
              "      border-color: transparent;\n",
              "      border-bottom-color: var(--fill-color);\n",
              "    }\n",
              "  }\n",
              "</style>\n",
              "\n",
              "  <script>\n",
              "    async function quickchart(key) {\n",
              "      const quickchartButtonEl =\n",
              "        document.querySelector('#' + key + ' button');\n",
              "      quickchartButtonEl.disabled = true;  // To prevent multiple clicks.\n",
              "      quickchartButtonEl.classList.add('colab-df-spinner');\n",
              "      try {\n",
              "        const charts = await google.colab.kernel.invokeFunction(\n",
              "            'suggestCharts', [key], {});\n",
              "      } catch (error) {\n",
              "        console.error('Error during call to suggestCharts:', error);\n",
              "      }\n",
              "      quickchartButtonEl.classList.remove('colab-df-spinner');\n",
              "      quickchartButtonEl.classList.add('colab-df-quickchart-complete');\n",
              "    }\n",
              "    (() => {\n",
              "      let quickchartButtonEl =\n",
              "        document.querySelector('#df-69056bb4-89a4-4961-b944-b41efbaee48b button');\n",
              "      quickchartButtonEl.style.display =\n",
              "        google.colab.kernel.accessAllowed ? 'block' : 'none';\n",
              "    })();\n",
              "  </script>\n",
              "</div>\n",
              "    </div>\n",
              "  </div>\n"
            ],
            "application/vnd.google.colaboratory.intrinsic+json": {
              "type": "dataframe",
              "variable_name": "df_train3",
              "summary": "{\n  \"name\": \"df_train3\",\n  \"rows\": 7552,\n  \"fields\": [\n    {\n      \"column\": \"id\",\n      \"properties\": {\n        \"dtype\": \"number\",\n        \"std\": 3111,\n        \"min\": 48,\n        \"max\": 10834,\n        \"num_unique_values\": 7552,\n        \"samples\": [\n          1705,\n          614,\n          1119\n        ],\n        \"semantic_type\": \"\",\n        \"description\": \"\"\n      }\n    },\n    {\n      \"column\": \"keyword\",\n      \"properties\": {\n        \"dtype\": \"category\",\n        \"num_unique_values\": 221,\n        \"samples\": [\n          \"injury\",\n          \"nuclear%20reactor\",\n          \"engulfed\"\n        ],\n        \"semantic_type\": \"\",\n        \"description\": \"\"\n      }\n    },\n    {\n      \"column\": \"text\",\n      \"properties\": {\n        \"dtype\": \"string\",\n        \"num_unique_values\": 7447,\n        \"samples\": [\n          \"Maxsys is hiring a #Demolition #Workers apply now! #Halifax #jobs http://t.co/QTIZcBWw7G\",\n          \"Want to work in #Tarzana CA? View our latest opening: http://t.co/hkyFKug5zW #Nursing #Job #Jobs #Hiring\",\n          \"Rather violent storm. Possibility of no stream tonight.\"\n        ],\n        \"semantic_type\": \"\",\n        \"description\": \"\"\n      }\n    },\n    {\n      \"column\": \"target\",\n      \"properties\": {\n        \"dtype\": \"number\",\n        \"std\": 0,\n        \"min\": 0,\n        \"max\": 1,\n        \"num_unique_values\": 2,\n        \"samples\": [\n          0,\n          1\n        ],\n        \"semantic_type\": \"\",\n        \"description\": \"\"\n      }\n    }\n  ]\n}"
            }
          },
          "metadata": {},
          "execution_count": 17
        }
      ]
    },
    {
      "cell_type": "code",
      "source": [
        "df_train[\"target\"][df_train[\"keyword\"].isnull()].mean()"
      ],
      "metadata": {
        "colab": {
          "base_uri": "https://localhost:8080/"
        },
        "id": "XrGVgyGIhtyf",
        "outputId": "3e098ddd-728a-449a-c87e-8bcdaaaee7b5"
      },
      "execution_count": 18,
      "outputs": [
        {
          "output_type": "execute_result",
          "data": {
            "text/plain": [
              "0.6885245901639344"
            ]
          },
          "metadata": {},
          "execution_count": 18
        }
      ]
    },
    {
      "cell_type": "markdown",
      "source": [
        "While we do drop more disaster tweets than non-disaster tweets, considering that we only dropped less than 1% of the data, the asymmetry ratio will only worsen slightly."
      ],
      "metadata": {
        "id": "xYuTplb4h4bo"
      }
    },
    {
      "cell_type": "markdown",
      "source": [
        "How about the distribution of keywords in the dataset?"
      ],
      "metadata": {
        "id": "b4usc_mUqhaU"
      }
    },
    {
      "cell_type": "code",
      "source": [
        "plt.figure(figsize=(400,10))\n",
        "plt.hist(df_train3[\"keyword\"])"
      ],
      "metadata": {
        "colab": {
          "base_uri": "https://localhost:8080/",
          "height": 160
        },
        "id": "vyw9enT7pkMs",
        "outputId": "37e7df87-904b-4d47-f7fd-e9a061c7ae44"
      },
      "execution_count": 19,
      "outputs": [
        {
          "output_type": "execute_result",
          "data": {
            "text/plain": [
              "(array([749., 747., 776., 763., 772., 757., 725., 726., 730., 807.]),\n",
              " array([  0.,  22.,  44.,  66.,  88., 110., 132., 154., 176., 198., 220.]),\n",
              " <BarContainer object of 10 artists>)"
            ]
          },
          "metadata": {},
          "execution_count": 19
        },
        {
          "output_type": "display_data",
          "data": {
            "text/plain": [
              "<Figure size 40000x1000 with 1 Axes>"
            ],
            "image/png": "[encoded data removed]"
          },
          "metadata": {}
        }
      ]
    },
    {
      "cell_type": "markdown",
      "source": [
        "You might want to zoom into the image, but we can clearly see an evenly spread distribution of hte keywords - which is good to work with! We could now also consider dropping the index value and re-indexing the dataframe"
      ],
      "metadata": {
        "id": "7MmejV96qXD1"
      }
    },
    {
      "cell_type": "code",
      "source": [
        "df_train3 = df_train3.reset_index()"
      ],
      "metadata": {
        "id": "LYegiWQdqf7x"
      },
      "execution_count": 20,
      "outputs": []
    },
    {
      "cell_type": "code",
      "source": [
        "df_train3.head()"
      ],
      "metadata": {
        "colab": {
          "base_uri": "https://localhost:8080/",
          "height": 206
        },
        "id": "bzcBktebrst5",
        "outputId": "aad6afab-2df5-4467-b979-0c791edf0cf3"
      },
      "execution_count": 21,
      "outputs": [
        {
          "output_type": "execute_result",
          "data": {
            "text/plain": [
              "   index  id keyword                                               text  \\\n",
              "0     31  48  ablaze  @bbcmtd Wholesale Markets ablaze http://t.co/l...   \n",
              "1     32  49  ablaze  We always try to bring the heavy. #metal #RT h...   \n",
              "2     33  50  ablaze  #AFRICANBAZE: Breaking news:Nigeria flag set a...   \n",
              "3     34  52  ablaze                 Crying out for more! Set me ablaze   \n",
              "4     35  53  ablaze  On plus side LOOK AT THE SKY LAST NIGHT IT WAS...   \n",
              "\n",
              "   target  \n",
              "0       1  \n",
              "1       0  \n",
              "2       1  \n",
              "3       0  \n",
              "4       0  "
            ],
            "text/html": [
              "\n",
              "  <div id=\"df-cc57a7c1-9a22-4aed-a380-5d28bf9bc6f8\" class=\"colab-df-container\">\n",
              "    <div>\n",
              "<style scoped>\n",
              "    .dataframe tbody tr th:only-of-type {\n",
              "        vertical-align: middle;\n",
              "    }\n",
              "\n",
              "    .dataframe tbody tr th {\n",
              "        vertical-align: top;\n",
              "    }\n",
              "\n",
              "    .dataframe thead th {\n",
              "        text-align: right;\n",
              "    }\n",
              "</style>\n",
              "<table border=\"1\" class=\"dataframe\">\n",
              "  <thead>\n",
              "    <tr style=\"text-align: right;\">\n",
              "      <th></th>\n",
              "      <th>index</th>\n",
              "      <th>id</th>\n",
              "      <th>keyword</th>\n",
              "      <th>text</th>\n",
              "      <th>target</th>\n",
              "    </tr>\n",
              "  </thead>\n",
              "  <tbody>\n",
              "    <tr>\n",
              "      <th>0</th>\n",
              "      <td>31</td>\n",
              "      <td>48</td>\n",
              "      <td>ablaze</td>\n",
              "      <td>@bbcmtd Wholesale Markets ablaze http://t.co/l...</td>\n",
              "      <td>1</td>\n",
              "    </tr>\n",
              "    <tr>\n",
              "      <th>1</th>\n",
              "      <td>32</td>\n",
              "      <td>49</td>\n",
              "      <td>ablaze</td>\n",
              "      <td>We always try to bring the heavy. #metal #RT h...</td>\n",
              "      <td>0</td>\n",
              "    </tr>\n",
              "    <tr>\n",
              "      <th>2</th>\n",
              "      <td>33</td>\n",
              "      <td>50</td>\n",
              "      <td>ablaze</td>\n",
              "      <td>#AFRICANBAZE: Breaking news:Nigeria flag set a...</td>\n",
              "      <td>1</td>\n",
              "    </tr>\n",
              "    <tr>\n",
              "      <th>3</th>\n",
              "      <td>34</td>\n",
              "      <td>52</td>\n",
              "      <td>ablaze</td>\n",
              "      <td>Crying out for more! Set me ablaze</td>\n",
              "      <td>0</td>\n",
              "    </tr>\n",
              "    <tr>\n",
              "      <th>4</th>\n",
              "      <td>35</td>\n",
              "      <td>53</td>\n",
              "      <td>ablaze</td>\n",
              "      <td>On plus side LOOK AT THE SKY LAST NIGHT IT WAS...</td>\n",
              "      <td>0</td>\n",
              "    </tr>\n",
              "  </tbody>\n",
              "</table>\n",
              "</div>\n",
              "    <div class=\"colab-df-buttons\">\n",
              "\n",
              "  <div class=\"colab-df-container\">\n",
              "    <button class=\"colab-df-convert\" onclick=\"convertToInteractive('df-cc57a7c1-9a22-4aed-a380-5d28bf9bc6f8')\"\n",
              "            title=\"Convert this dataframe to an interactive table.\"\n",
              "            style=\"display:none;\">\n",
              "\n",
              "  <svg xmlns=\"http://www.w3.org/2000/svg\" height=\"24px\" viewBox=\"0 -960 960 960\">\n",
              "    <path d=\"M120-120v-720h720v720H120Zm60-500h600v-160H180v160Zm220 220h160v-160H400v160Zm0 220h160v-160H400v160ZM180-400h160v-160H180v160Zm440 0h160v-160H620v160ZM180-180h160v-160H180v160Zm440 0h160v-160H620v160Z\"/>\n",
              "  </svg>\n",
              "    </button>\n",
              "\n",
              "  <style>\n",
              "    .colab-df-container {\n",
              "      display:flex;\n",
              "      gap: 12px;\n",
              "    }\n",
              "\n",
              "    .colab-df-convert {\n",
              "      background-color: #E8F0FE;\n",
              "      border: none;\n",
              "      border-radius: 50%;\n",
              "      cursor: pointer;\n",
              "      display: none;\n",
              "      fill: #1967D2;\n",
              "      height: 32px;\n",
              "      padding: 0 0 0 0;\n",
              "      width: 32px;\n",
              "    }\n",
              "\n",
              "    .colab-df-convert:hover {\n",
              "      background-color: #E2EBFA;\n",
              "      box-shadow: 0px 1px 2px rgba(60, 64, 67, 0.3), 0px 1px 3px 1px rgba(60, 64, 67, 0.15);\n",
              "      fill: #174EA6;\n",
              "    }\n",
              "\n",
              "    .colab-df-buttons div {\n",
              "      margin-bottom: 4px;\n",
              "    }\n",
              "\n",
              "    [theme=dark] .colab-df-convert {\n",
              "      background-color: #3B4455;\n",
              "      fill: #D2E3FC;\n",
              "    }\n",
              "\n",
              "    [theme=dark] .colab-df-convert:hover {\n",
              "      background-color: #434B5C;\n",
              "      box-shadow: 0px 1px 3px 1px rgba(0, 0, 0, 0.15);\n",
              "      filter: drop-shadow(0px 1px 2px rgba(0, 0, 0, 0.3));\n",
              "      fill: #FFFFFF;\n",
              "    }\n",
              "  </style>\n",
              "\n",
              "    <script>\n",
              "      const buttonEl =\n",
              "        document.querySelector('#df-cc57a7c1-9a22-4aed-a380-5d28bf9bc6f8 button.colab-df-convert');\n",
              "      buttonEl.style.display =\n",
              "        google.colab.kernel.accessAllowed ? 'block' : 'none';\n",
              "\n",
              "      async function convertToInteractive(key) {\n",
              "        const element = document.querySelector('#df-cc57a7c1-9a22-4aed-a380-5d28bf9bc6f8');\n",
              "        const dataTable =\n",
              "          await google.colab.kernel.invokeFunction('convertToInteractive',\n",
              "                                                    [key], {});\n",
              "        if (!dataTable) return;\n",
              "\n",
              "        const docLinkHtml = 'Like what you see? Visit the ' +\n",
              "          '<a target=\"_blank\" href=https://colab.research.google.com/notebooks/data_table.ipynb>data table notebook</a>'\n",
              "          + ' to learn more about interactive tables.';\n",
              "        element.innerHTML = '';\n",
              "        dataTable['output_type'] = 'display_data';\n",
              "        await google.colab.output.renderOutput(dataTable, element);\n",
              "        const docLink = document.createElement('div');\n",
              "        docLink.innerHTML = docLinkHtml;\n",
              "        element.appendChild(docLink);\n",
              "      }\n",
              "    </script>\n",
              "  </div>\n",
              "\n",
              "\n",
              "<div id=\"df-52c213d9-2f3a-40a5-a3b7-6805290188d2\">\n",
              "  <button class=\"colab-df-quickchart\" onclick=\"quickchart('df-52c213d9-2f3a-40a5-a3b7-6805290188d2')\"\n",
              "            title=\"Suggest charts\"\n",
              "            style=\"display:none;\">\n",
              "\n",
              "<svg xmlns=\"http://www.w3.org/2000/svg\" height=\"24px\"viewBox=\"0 0 24 24\"\n",
              "     width=\"24px\">\n",
              "    <g>\n",
              "        <path d=\"M19 3H5c-1.1 0-2 .9-2 2v14c0 1.1.9 2 2 2h14c1.1 0 2-.9 2-2V5c0-1.1-.9-2-2-2zM9 17H7v-7h2v7zm4 0h-2V7h2v10zm4 0h-2v-4h2v4z\"/>\n",
              "    </g>\n",
              "</svg>\n",
              "  </button>\n",
              "\n",
              "<style>\n",
              "  .colab-df-quickchart {\n",
              "      --bg-color: #E8F0FE;\n",
              "      --fill-color: #1967D2;\n",
              "      --hover-bg-color: #E2EBFA;\n",
              "      --hover-fill-color: #174EA6;\n",
              "      --disabled-fill-color: #AAA;\n",
              "      --disabled-bg-color: #DDD;\n",
              "  }\n",
              "\n",
              "  [theme=dark] .colab-df-quickchart {\n",
              "      --bg-color: #3B4455;\n",
              "      --fill-color: #D2E3FC;\n",
              "      --hover-bg-color: #434B5C;\n",
              "      --hover-fill-color: #FFFFFF;\n",
              "      --disabled-bg-color: #3B4455;\n",
              "      --disabled-fill-color: #666;\n",
              "  }\n",
              "\n",
              "  .colab-df-quickchart {\n",
              "    background-color: var(--bg-color);\n",
              "    border: none;\n",
              "    border-radius: 50%;\n",
              "    cursor: pointer;\n",
              "    display: none;\n",
              "    fill: var(--fill-color);\n",
              "    height: 32px;\n",
              "    padding: 0;\n",
              "    width: 32px;\n",
              "  }\n",
              "\n",
              "  .colab-df-quickchart:hover {\n",
              "    background-color: var(--hover-bg-color);\n",
              "    box-shadow: 0 1px 2px rgba(60, 64, 67, 0.3), 0 1px 3px 1px rgba(60, 64, 67, 0.15);\n",
              "    fill: var(--button-hover-fill-color);\n",
              "  }\n",
              "\n",
              "  .colab-df-quickchart-complete:disabled,\n",
              "  .colab-df-quickchart-complete:disabled:hover {\n",
              "    background-color: var(--disabled-bg-color);\n",
              "    fill: var(--disabled-fill-color);\n",
              "    box-shadow: none;\n",
              "  }\n",
              "\n",
              "  .colab-df-spinner {\n",
              "    border: 2px solid var(--fill-color);\n",
              "    border-color: transparent;\n",
              "    border-bottom-color: var(--fill-color);\n",
              "    animation:\n",
              "      spin 1s steps(1) infinite;\n",
              "  }\n",
              "\n",
              "  @keyframes spin {\n",
              "    0% {\n",
              "      border-color: transparent;\n",
              "      border-bottom-color: var(--fill-color);\n",
              "      border-left-color: var(--fill-color);\n",
              "    }\n",
              "    20% {\n",
              "      border-color: transparent;\n",
              "      border-left-color: var(--fill-color);\n",
              "      border-top-color: var(--fill-color);\n",
              "    }\n",
              "    30% {\n",
              "      border-color: transparent;\n",
              "      border-left-color: var(--fill-color);\n",
              "      border-top-color: var(--fill-color);\n",
              "      border-right-color: var(--fill-color);\n",
              "    }\n",
              "    40% {\n",
              "      border-color: transparent;\n",
              "      border-right-color: var(--fill-color);\n",
              "      border-top-color: var(--fill-color);\n",
              "    }\n",
              "    60% {\n",
              "      border-color: transparent;\n",
              "      border-right-color: var(--fill-color);\n",
              "    }\n",
              "    80% {\n",
              "      border-color: transparent;\n",
              "      border-right-color: var(--fill-color);\n",
              "      border-bottom-color: var(--fill-color);\n",
              "    }\n",
              "    90% {\n",
              "      border-color: transparent;\n",
              "      border-bottom-color: var(--fill-color);\n",
              "    }\n",
              "  }\n",
              "</style>\n",
              "\n",
              "  <script>\n",
              "    async function quickchart(key) {\n",
              "      const quickchartButtonEl =\n",
              "        document.querySelector('#' + key + ' button');\n",
              "      quickchartButtonEl.disabled = true;  // To prevent multiple clicks.\n",
              "      quickchartButtonEl.classList.add('colab-df-spinner');\n",
              "      try {\n",
              "        const charts = await google.colab.kernel.invokeFunction(\n",
              "            'suggestCharts', [key], {});\n",
              "      } catch (error) {\n",
              "        console.error('Error during call to suggestCharts:', error);\n",
              "      }\n",
              "      quickchartButtonEl.classList.remove('colab-df-spinner');\n",
              "      quickchartButtonEl.classList.add('colab-df-quickchart-complete');\n",
              "    }\n",
              "    (() => {\n",
              "      let quickchartButtonEl =\n",
              "        document.querySelector('#df-52c213d9-2f3a-40a5-a3b7-6805290188d2 button');\n",
              "      quickchartButtonEl.style.display =\n",
              "        google.colab.kernel.accessAllowed ? 'block' : 'none';\n",
              "    })();\n",
              "  </script>\n",
              "</div>\n",
              "    </div>\n",
              "  </div>\n"
            ],
            "application/vnd.google.colaboratory.intrinsic+json": {
              "type": "dataframe",
              "variable_name": "df_train3",
              "summary": "{\n  \"name\": \"df_train3\",\n  \"rows\": 7552,\n  \"fields\": [\n    {\n      \"column\": \"index\",\n      \"properties\": {\n        \"dtype\": \"number\",\n        \"std\": 2180,\n        \"min\": 31,\n        \"max\": 7582,\n        \"num_unique_values\": 7552,\n        \"samples\": [\n          1184,\n          424,\n          773\n        ],\n        \"semantic_type\": \"\",\n        \"description\": \"\"\n      }\n    },\n    {\n      \"column\": \"id\",\n      \"properties\": {\n        \"dtype\": \"number\",\n        \"std\": 3111,\n        \"min\": 48,\n        \"max\": 10834,\n        \"num_unique_values\": 7552,\n        \"samples\": [\n          1705,\n          614,\n          1119\n        ],\n        \"semantic_type\": \"\",\n        \"description\": \"\"\n      }\n    },\n    {\n      \"column\": \"keyword\",\n      \"properties\": {\n        \"dtype\": \"category\",\n        \"num_unique_values\": 221,\n        \"samples\": [\n          \"injury\",\n          \"nuclear%20reactor\",\n          \"engulfed\"\n        ],\n        \"semantic_type\": \"\",\n        \"description\": \"\"\n      }\n    },\n    {\n      \"column\": \"text\",\n      \"properties\": {\n        \"dtype\": \"string\",\n        \"num_unique_values\": 7447,\n        \"samples\": [\n          \"Maxsys is hiring a #Demolition #Workers apply now! #Halifax #jobs http://t.co/QTIZcBWw7G\",\n          \"Want to work in #Tarzana CA? View our latest opening: http://t.co/hkyFKug5zW #Nursing #Job #Jobs #Hiring\",\n          \"Rather violent storm. Possibility of no stream tonight.\"\n        ],\n        \"semantic_type\": \"\",\n        \"description\": \"\"\n      }\n    },\n    {\n      \"column\": \"target\",\n      \"properties\": {\n        \"dtype\": \"number\",\n        \"std\": 0,\n        \"min\": 0,\n        \"max\": 1,\n        \"num_unique_values\": 2,\n        \"samples\": [\n          0,\n          1\n        ],\n        \"semantic_type\": \"\",\n        \"description\": \"\"\n      }\n    }\n  ]\n}"
            }
          },
          "metadata": {},
          "execution_count": 21
        }
      ]
    },
    {
      "cell_type": "code",
      "source": [
        "df_train4 = df_train3.drop([\"index\", \"id\"], axis=1)"
      ],
      "metadata": {
        "id": "HxkfYQcPrR8N"
      },
      "execution_count": 22,
      "outputs": []
    },
    {
      "cell_type": "code",
      "source": [
        "df_train4.head()"
      ],
      "metadata": {
        "colab": {
          "base_uri": "https://localhost:8080/",
          "height": 206
        },
        "id": "PpfPCwgZsDlR",
        "outputId": "6fc56a8f-2626-45f2-c30e-6ba86a634cc9"
      },
      "execution_count": 23,
      "outputs": [
        {
          "output_type": "execute_result",
          "data": {
            "text/plain": [
              "  keyword                                               text  target\n",
              "0  ablaze  @bbcmtd Wholesale Markets ablaze http://t.co/l...       1\n",
              "1  ablaze  We always try to bring the heavy. #metal #RT h...       0\n",
              "2  ablaze  #AFRICANBAZE: Breaking news:Nigeria flag set a...       1\n",
              "3  ablaze                 Crying out for more! Set me ablaze       0\n",
              "4  ablaze  On plus side LOOK AT THE SKY LAST NIGHT IT WAS...       0"
            ],
            "text/html": [
              "\n",
              "  <div id=\"df-aa27ed52-d948-46ef-bc02-9d8a4517cc33\" class=\"colab-df-container\">\n",
              "    <div>\n",
              "<style scoped>\n",
              "    .dataframe tbody tr th:only-of-type {\n",
              "        vertical-align: middle;\n",
              "    }\n",
              "\n",
              "    .dataframe tbody tr th {\n",
              "        vertical-align: top;\n",
              "    }\n",
              "\n",
              "    .dataframe thead th {\n",
              "        text-align: right;\n",
              "    }\n",
              "</style>\n",
              "<table border=\"1\" class=\"dataframe\">\n",
              "  <thead>\n",
              "    <tr style=\"text-align: right;\">\n",
              "      <th></th>\n",
              "      <th>keyword</th>\n",
              "      <th>text</th>\n",
              "      <th>target</th>\n",
              "    </tr>\n",
              "  </thead>\n",
              "  <tbody>\n",
              "    <tr>\n",
              "      <th>0</th>\n",
              "      <td>ablaze</td>\n",
              "      <td>@bbcmtd Wholesale Markets ablaze http://t.co/l...</td>\n",
              "      <td>1</td>\n",
              "    </tr>\n",
              "    <tr>\n",
              "      <th>1</th>\n",
              "      <td>ablaze</td>\n",
              "      <td>We always try to bring the heavy. #metal #RT h...</td>\n",
              "      <td>0</td>\n",
              "    </tr>\n",
              "    <tr>\n",
              "      <th>2</th>\n",
              "      <td>ablaze</td>\n",
              "      <td>#AFRICANBAZE: Breaking news:Nigeria flag set a...</td>\n",
              "      <td>1</td>\n",
              "    </tr>\n",
              "    <tr>\n",
              "      <th>3</th>\n",
              "      <td>ablaze</td>\n",
              "      <td>Crying out for more! Set me ablaze</td>\n",
              "      <td>0</td>\n",
              "    </tr>\n",
              "    <tr>\n",
              "      <th>4</th>\n",
              "      <td>ablaze</td>\n",
              "      <td>On plus side LOOK AT THE SKY LAST NIGHT IT WAS...</td>\n",
              "      <td>0</td>\n",
              "    </tr>\n",
              "  </tbody>\n",
              "</table>\n",
              "</div>\n",
              "    <div class=\"colab-df-buttons\">\n",
              "\n",
              "  <div class=\"colab-df-container\">\n",
              "    <button class=\"colab-df-convert\" onclick=\"convertToInteractive('df-aa27ed52-d948-46ef-bc02-9d8a4517cc33')\"\n",
              "            title=\"Convert this dataframe to an interactive table.\"\n",
              "            style=\"display:none;\">\n",
              "\n",
              "  <svg xmlns=\"http://www.w3.org/2000/svg\" height=\"24px\" viewBox=\"0 -960 960 960\">\n",
              "    <path d=\"M120-120v-720h720v720H120Zm60-500h600v-160H180v160Zm220 220h160v-160H400v160Zm0 220h160v-160H400v160ZM180-400h160v-160H180v160Zm440 0h160v-160H620v160ZM180-180h160v-160H180v160Zm440 0h160v-160H620v160Z\"/>\n",
              "  </svg>\n",
              "    </button>\n",
              "\n",
              "  <style>\n",
              "    .colab-df-container {\n",
              "      display:flex;\n",
              "      gap: 12px;\n",
              "    }\n",
              "\n",
              "    .colab-df-convert {\n",
              "      background-color: #E8F0FE;\n",
              "      border: none;\n",
              "      border-radius: 50%;\n",
              "      cursor: pointer;\n",
              "      display: none;\n",
              "      fill: #1967D2;\n",
              "      height: 32px;\n",
              "      padding: 0 0 0 0;\n",
              "      width: 32px;\n",
              "    }\n",
              "\n",
              "    .colab-df-convert:hover {\n",
              "      background-color: #E2EBFA;\n",
              "      box-shadow: 0px 1px 2px rgba(60, 64, 67, 0.3), 0px 1px 3px 1px rgba(60, 64, 67, 0.15);\n",
              "      fill: #174EA6;\n",
              "    }\n",
              "\n",
              "    .colab-df-buttons div {\n",
              "      margin-bottom: 4px;\n",
              "    }\n",
              "\n",
              "    [theme=dark] .colab-df-convert {\n",
              "      background-color: #3B4455;\n",
              "      fill: #D2E3FC;\n",
              "    }\n",
              "\n",
              "    [theme=dark] .colab-df-convert:hover {\n",
              "      background-color: #434B5C;\n",
              "      box-shadow: 0px 1px 3px 1px rgba(0, 0, 0, 0.15);\n",
              "      filter: drop-shadow(0px 1px 2px rgba(0, 0, 0, 0.3));\n",
              "      fill: #FFFFFF;\n",
              "    }\n",
              "  </style>\n",
              "\n",
              "    <script>\n",
              "      const buttonEl =\n",
              "        document.querySelector('#df-aa27ed52-d948-46ef-bc02-9d8a4517cc33 button.colab-df-convert');\n",
              "      buttonEl.style.display =\n",
              "        google.colab.kernel.accessAllowed ? 'block' : 'none';\n",
              "\n",
              "      async function convertToInteractive(key) {\n",
              "        const element = document.querySelector('#df-aa27ed52-d948-46ef-bc02-9d8a4517cc33');\n",
              "        const dataTable =\n",
              "          await google.colab.kernel.invokeFunction('convertToInteractive',\n",
              "                                                    [key], {});\n",
              "        if (!dataTable) return;\n",
              "\n",
              "        const docLinkHtml = 'Like what you see? Visit the ' +\n",
              "          '<a target=\"_blank\" href=https://colab.research.google.com/notebooks/data_table.ipynb>data table notebook</a>'\n",
              "          + ' to learn more about interactive tables.';\n",
              "        element.innerHTML = '';\n",
              "        dataTable['output_type'] = 'display_data';\n",
              "        await google.colab.output.renderOutput(dataTable, element);\n",
              "        const docLink = document.createElement('div');\n",
              "        docLink.innerHTML = docLinkHtml;\n",
              "        element.appendChild(docLink);\n",
              "      }\n",
              "    </script>\n",
              "  </div>\n",
              "\n",
              "\n",
              "<div id=\"df-931bdb6e-b63f-49bb-a4bd-20d033e54a38\">\n",
              "  <button class=\"colab-df-quickchart\" onclick=\"quickchart('df-931bdb6e-b63f-49bb-a4bd-20d033e54a38')\"\n",
              "            title=\"Suggest charts\"\n",
              "            style=\"display:none;\">\n",
              "\n",
              "<svg xmlns=\"http://www.w3.org/2000/svg\" height=\"24px\"viewBox=\"0 0 24 24\"\n",
              "     width=\"24px\">\n",
              "    <g>\n",
              "        <path d=\"M19 3H5c-1.1 0-2 .9-2 2v14c0 1.1.9 2 2 2h14c1.1 0 2-.9 2-2V5c0-1.1-.9-2-2-2zM9 17H7v-7h2v7zm4 0h-2V7h2v10zm4 0h-2v-4h2v4z\"/>\n",
              "    </g>\n",
              "</svg>\n",
              "  </button>\n",
              "\n",
              "<style>\n",
              "  .colab-df-quickchart {\n",
              "      --bg-color: #E8F0FE;\n",
              "      --fill-color: #1967D2;\n",
              "      --hover-bg-color: #E2EBFA;\n",
              "      --hover-fill-color: #174EA6;\n",
              "      --disabled-fill-color: #AAA;\n",
              "      --disabled-bg-color: #DDD;\n",
              "  }\n",
              "\n",
              "  [theme=dark] .colab-df-quickchart {\n",
              "      --bg-color: #3B4455;\n",
              "      --fill-color: #D2E3FC;\n",
              "      --hover-bg-color: #434B5C;\n",
              "      --hover-fill-color: #FFFFFF;\n",
              "      --disabled-bg-color: #3B4455;\n",
              "      --disabled-fill-color: #666;\n",
              "  }\n",
              "\n",
              "  .colab-df-quickchart {\n",
              "    background-color: var(--bg-color);\n",
              "    border: none;\n",
              "    border-radius: 50%;\n",
              "    cursor: pointer;\n",
              "    display: none;\n",
              "    fill: var(--fill-color);\n",
              "    height: 32px;\n",
              "    padding: 0;\n",
              "    width: 32px;\n",
              "  }\n",
              "\n",
              "  .colab-df-quickchart:hover {\n",
              "    background-color: var(--hover-bg-color);\n",
              "    box-shadow: 0 1px 2px rgba(60, 64, 67, 0.3), 0 1px 3px 1px rgba(60, 64, 67, 0.15);\n",
              "    fill: var(--button-hover-fill-color);\n",
              "  }\n",
              "\n",
              "  .colab-df-quickchart-complete:disabled,\n",
              "  .colab-df-quickchart-complete:disabled:hover {\n",
              "    background-color: var(--disabled-bg-color);\n",
              "    fill: var(--disabled-fill-color);\n",
              "    box-shadow: none;\n",
              "  }\n",
              "\n",
              "  .colab-df-spinner {\n",
              "    border: 2px solid var(--fill-color);\n",
              "    border-color: transparent;\n",
              "    border-bottom-color: var(--fill-color);\n",
              "    animation:\n",
              "      spin 1s steps(1) infinite;\n",
              "  }\n",
              "\n",
              "  @keyframes spin {\n",
              "    0% {\n",
              "      border-color: transparent;\n",
              "      border-bottom-color: var(--fill-color);\n",
              "      border-left-color: var(--fill-color);\n",
              "    }\n",
              "    20% {\n",
              "      border-color: transparent;\n",
              "      border-left-color: var(--fill-color);\n",
              "      border-top-color: var(--fill-color);\n",
              "    }\n",
              "    30% {\n",
              "      border-color: transparent;\n",
              "      border-left-color: var(--fill-color);\n",
              "      border-top-color: var(--fill-color);\n",
              "      border-right-color: var(--fill-color);\n",
              "    }\n",
              "    40% {\n",
              "      border-color: transparent;\n",
              "      border-right-color: var(--fill-color);\n",
              "      border-top-color: var(--fill-color);\n",
              "    }\n",
              "    60% {\n",
              "      border-color: transparent;\n",
              "      border-right-color: var(--fill-color);\n",
              "    }\n",
              "    80% {\n",
              "      border-color: transparent;\n",
              "      border-right-color: var(--fill-color);\n",
              "      border-bottom-color: var(--fill-color);\n",
              "    }\n",
              "    90% {\n",
              "      border-color: transparent;\n",
              "      border-bottom-color: var(--fill-color);\n",
              "    }\n",
              "  }\n",
              "</style>\n",
              "\n",
              "  <script>\n",
              "    async function quickchart(key) {\n",
              "      const quickchartButtonEl =\n",
              "        document.querySelector('#' + key + ' button');\n",
              "      quickchartButtonEl.disabled = true;  // To prevent multiple clicks.\n",
              "      quickchartButtonEl.classList.add('colab-df-spinner');\n",
              "      try {\n",
              "        const charts = await google.colab.kernel.invokeFunction(\n",
              "            'suggestCharts', [key], {});\n",
              "      } catch (error) {\n",
              "        console.error('Error during call to suggestCharts:', error);\n",
              "      }\n",
              "      quickchartButtonEl.classList.remove('colab-df-spinner');\n",
              "      quickchartButtonEl.classList.add('colab-df-quickchart-complete');\n",
              "    }\n",
              "    (() => {\n",
              "      let quickchartButtonEl =\n",
              "        document.querySelector('#df-931bdb6e-b63f-49bb-a4bd-20d033e54a38 button');\n",
              "      quickchartButtonEl.style.display =\n",
              "        google.colab.kernel.accessAllowed ? 'block' : 'none';\n",
              "    })();\n",
              "  </script>\n",
              "</div>\n",
              "    </div>\n",
              "  </div>\n"
            ],
            "application/vnd.google.colaboratory.intrinsic+json": {
              "type": "dataframe",
              "variable_name": "df_train4",
              "summary": "{\n  \"name\": \"df_train4\",\n  \"rows\": 7552,\n  \"fields\": [\n    {\n      \"column\": \"keyword\",\n      \"properties\": {\n        \"dtype\": \"category\",\n        \"num_unique_values\": 221,\n        \"samples\": [\n          \"injury\",\n          \"nuclear%20reactor\",\n          \"engulfed\"\n        ],\n        \"semantic_type\": \"\",\n        \"description\": \"\"\n      }\n    },\n    {\n      \"column\": \"text\",\n      \"properties\": {\n        \"dtype\": \"string\",\n        \"num_unique_values\": 7447,\n        \"samples\": [\n          \"Maxsys is hiring a #Demolition #Workers apply now! #Halifax #jobs http://t.co/QTIZcBWw7G\",\n          \"Want to work in #Tarzana CA? View our latest opening: http://t.co/hkyFKug5zW #Nursing #Job #Jobs #Hiring\",\n          \"Rather violent storm. Possibility of no stream tonight.\"\n        ],\n        \"semantic_type\": \"\",\n        \"description\": \"\"\n      }\n    },\n    {\n      \"column\": \"target\",\n      \"properties\": {\n        \"dtype\": \"number\",\n        \"std\": 0,\n        \"min\": 0,\n        \"max\": 1,\n        \"num_unique_values\": 2,\n        \"samples\": [\n          0,\n          1\n        ],\n        \"semantic_type\": \"\",\n        \"description\": \"\"\n      }\n    }\n  ]\n}"
            }
          },
          "metadata": {},
          "execution_count": 23
        }
      ]
    },
    {
      "cell_type": "markdown",
      "source": [
        "## NLP - Extracting our features from the text corpus"
      ],
      "metadata": {
        "id": "Q8GjDbYGsGNZ"
      }
    },
    {
      "cell_type": "markdown",
      "source": [
        "So, since the lecture does not cover NLP and the task explicitly states that external sources should be used, the Kaggle \"NLP Getting Started Tutorial\" linked with the project has been taken as a starting point. It is accessible here: https://www.kaggle.com/code/philculliton/nlp-getting-started-tutorial"
      ],
      "metadata": {
        "id": "Ak16fU0YrsU4"
      }
    },
    {
      "cell_type": "markdown",
      "source": [
        "### From text corpus to vectors"
      ],
      "metadata": {
        "id": "oBgQJulJuPfw"
      }
    },
    {
      "cell_type": "markdown",
      "source": [
        "A first step to be taken is to convert the text field containing a long string into vectorized words. We use the following libraries as taught in the tutorial:"
      ],
      "metadata": {
        "id": "7uTx5tGGt37A"
      }
    },
    {
      "cell_type": "code",
      "source": [
        "from sklearn import feature_extraction"
      ],
      "metadata": {
        "id": "cdBuFCNquvH2"
      },
      "execution_count": 24,
      "outputs": []
    },
    {
      "cell_type": "markdown",
      "source": [
        "We initialize a countvectorizer and train it on our training data."
      ],
      "metadata": {
        "id": "TJtVPciKwiFg"
      }
    },
    {
      "cell_type": "code",
      "source": [
        "count_vectorizer = feature_extraction.text.CountVectorizer()"
      ],
      "metadata": {
        "id": "PeM6jLfruzKu"
      },
      "execution_count": 25,
      "outputs": []
    },
    {
      "cell_type": "markdown",
      "source": [
        "Deviating slightly from the tutorial, we do not want a sparse matrix representation in order to ensure compatibility with our model later, so we additionally convert to an array."
      ],
      "metadata": {
        "id": "GakuNmnZQjcx"
      }
    },
    {
      "cell_type": "code",
      "source": [
        "train_vec = count_vectorizer.fit_transform(df_train4[\"text\"]).toarray()"
      ],
      "metadata": {
        "id": "_kGqt7lFwrKf"
      },
      "execution_count": 26,
      "outputs": []
    },
    {
      "cell_type": "code",
      "source": [
        "print((train_vec).shape) #print(train_vec[0].todense().shape)"
      ],
      "metadata": {
        "colab": {
          "base_uri": "https://localhost:8080/"
        },
        "id": "DL6Wf45-w_Yv",
        "outputId": "de0a86d1-f6a8-4fd9-cdd4-80a5f2a0cb87"
      },
      "execution_count": 27,
      "outputs": [
        {
          "output_type": "stream",
          "name": "stdout",
          "text": [
            "(7552, 21592)\n"
          ]
        }
      ]
    },
    {
      "cell_type": "markdown",
      "source": [
        "So, we have 21592 words entries, which have been counted by said vectorizer. We should also process our test data with it:"
      ],
      "metadata": {
        "id": "BYqzMrQyxQN9"
      }
    },
    {
      "cell_type": "code",
      "source": [],
      "metadata": {
        "id": "O_f-yEgFreKM"
      },
      "execution_count": 27,
      "outputs": []
    },
    {
      "cell_type": "code",
      "source": [
        "test_vec = count_vectorizer.fit_transform(df_test[\"text\"]).toarray()"
      ],
      "metadata": {
        "id": "8_K9EyndxcPc"
      },
      "execution_count": 28,
      "outputs": []
    },
    {
      "cell_type": "markdown",
      "source": [
        "And now we have a sparse matrix of vectors representing word occurrences: Each \"1\" signifies a presence of the word, wherein a \"0\" signifies the absence of said word. Of course, we could take a look at further techniques for transforming our text corpus - thereby pruning the dictionary of words first to increase term relevance (e. g. removing stop words), or further employ techniques reflecting word order or even sentiment. However, the scope of this project is to train and optimize RNNs, so this basic vectorized form has to suffice."
      ],
      "metadata": {
        "id": "9FuvLR7nyYRW"
      }
    },
    {
      "cell_type": "code",
      "source": [
        "count_vectorizer.get_feature_names_out()"
      ],
      "metadata": {
        "colab": {
          "base_uri": "https://localhost:8080/"
        },
        "id": "GEIyym9SrIai",
        "outputId": "ec43e6a2-e60e-44a9-8b9f-ea4e4c182acb"
      },
      "execution_count": 113,
      "outputs": [
        {
          "output_type": "execute_result",
          "data": {
            "text/plain": [
              "array(['00', '000', '000sijjl3t', ..., 'ûókill', 'ûówe', 'ûówere'],\n",
              "      dtype=object)"
            ]
          },
          "metadata": {},
          "execution_count": 113
        }
      ]
    },
    {
      "cell_type": "markdown",
      "source": [
        "We do see that there is a lot of noise in the data, counted as individual words. With a bit of pre-processing, e. g. focussing on a reduced dictionary of the most important 5000 words, we could probably achieve better results. And, of course, using this unprocessed matrix makes the model almost impossible to train in reasonable time before time-out of this Colab."
      ],
      "metadata": {
        "id": "6ZCoO0h7rDpj"
      }
    },
    {
      "cell_type": "markdown",
      "source": [
        "So let's try another approach, this time using Keras Text Preprocessing capabilities - and train it on the unprocessed Text Corpus and pad it afterwards, choosing a maximum length of 2000. This approach is based partially on https://pub.towardsai.net/keras-for-multi-label-text-classification-86d194311d0e (Section \"Size of Vocabulary\" and \"Padding and making all input sequences of the same length and preparing input sequences\"); however, we do not follow any of their preprocessing techniques."
      ],
      "metadata": {
        "id": "LHXLG8lkXbG5"
      }
    },
    {
      "cell_type": "code",
      "source": [
        "Token = keras.preprocessing.text.Tokenizer()"
      ],
      "metadata": {
        "id": "rfKkk-zeXz0g"
      },
      "execution_count": 134,
      "outputs": []
    },
    {
      "cell_type": "markdown",
      "source": [
        "The above statement initializes a tokenizer, which will extract each word from a given sample."
      ],
      "metadata": {
        "id": "pF3TVzFR0wiC"
      }
    },
    {
      "cell_type": "code",
      "source": [
        "Token.fit_on_texts(df_train4[\"text\"])"
      ],
      "metadata": {
        "id": "LdfsXj3jYa09"
      },
      "execution_count": 135,
      "outputs": []
    },
    {
      "cell_type": "markdown",
      "source": [
        "We now generate a one-hot-encoding (see also documentation here: https://www.tensorflow.org/text/guide/word_embeddings) for each word found in the text corpus."
      ],
      "metadata": {
        "id": "mkJWgpZI01Z5"
      }
    },
    {
      "cell_type": "code",
      "source": [
        "Trained = Token.texts_to_sequences(df_train4[\"text\"])"
      ],
      "metadata": {
        "id": "a4lkFFCMYmQw"
      },
      "execution_count": 136,
      "outputs": []
    },
    {
      "cell_type": "markdown",
      "source": [
        "Now, for a given text, which is still the same, unrefined text as before, we return numbers corresponding to the extracted feature groups for each word in the sequence."
      ],
      "metadata": {
        "id": "ioPRy1vt1RK8"
      }
    },
    {
      "cell_type": "code",
      "source": [
        "Train_padded = keras.utils.pad_sequences(Trained, maxlen=1000, padding='post')"
      ],
      "metadata": {
        "id": "n2RtZf9wZm_C"
      },
      "execution_count": 137,
      "outputs": []
    },
    {
      "cell_type": "markdown",
      "source": [
        "And the last step pads the data, so that non-occurrences still show with a zero - this allows us to have vectors of the same length for each input."
      ],
      "metadata": {
        "id": "_rjp-INS1uG5"
      }
    },
    {
      "cell_type": "code",
      "source": [
        "print(Train_padded)"
      ],
      "metadata": {
        "colab": {
          "base_uri": "https://localhost:8080/"
        },
        "id": "vGWV4sCEZxJt",
        "outputId": "d4269d82-7568-4dbf-94dc-46106be0879c"
      },
      "execution_count": 138,
      "outputs": [
        {
          "output_type": "stream",
          "name": "stdout",
          "text": [
            "[[ 6920  2910  1922 ...     0     0     0]\n",
            " [   50   280   894 ...     0     0     0]\n",
            " [ 6923   435    58 ...     0     0     0]\n",
            " ...\n",
            " [22649  6790  6789 ...     0     0     0]\n",
            " [22651   207  5588 ...     0     0     0]\n",
            " [ 2149  2441    80 ...     0     0     0]]\n"
          ]
        }
      ]
    },
    {
      "cell_type": "code",
      "source": [
        "print(Train_padded.shape)"
      ],
      "metadata": {
        "colab": {
          "base_uri": "https://localhost:8080/"
        },
        "id": "NwDOG_6YZ0wE",
        "outputId": "df800bb0-188e-4374-fb8a-ec6d14e3d0ba"
      },
      "execution_count": 139,
      "outputs": [
        {
          "output_type": "stream",
          "name": "stdout",
          "text": [
            "(7552, 1000)\n"
          ]
        }
      ]
    },
    {
      "cell_type": "markdown",
      "source": [
        "So we have now an occurrence matrix, reduced in length to the 2000 most important features. While we did not bother addressing the noise within the text corpus itself, it should have reduced some of it - and reduced the size accordingly. We will process the testing corpus accordingly:"
      ],
      "metadata": {
        "id": "MHraudUqZ6QS"
      }
    },
    {
      "cell_type": "code",
      "source": [
        "Token_test = keras.preprocessing.text.Tokenizer()\n",
        "Token_test.fit_on_texts(df_test[\"text\"])\n",
        "Tested = Token_test.texts_to_sequences(df_test[\"text\"])\n",
        "Test_padded = keras.utils.pad_sequences(Tested, maxlen=1000, padding='post')"
      ],
      "metadata": {
        "id": "asZRxNJAalnj"
      },
      "execution_count": 140,
      "outputs": []
    },
    {
      "cell_type": "markdown",
      "source": [
        "## Model building: A first basic RNN"
      ],
      "metadata": {
        "id": "gcmMKmqMzJXw"
      }
    },
    {
      "cell_type": "markdown",
      "source": [
        "Now, we want to build our first RNN - with basic assumptions, so we can iteratively improve on it e. g. by re-evaluating our choices and hyperparameter tuning."
      ],
      "metadata": {
        "id": "jLX4EIzB1Ry1"
      }
    },
    {
      "cell_type": "markdown",
      "source": [
        "## A first model"
      ],
      "metadata": {
        "id": "C3HFhMCCd0_d"
      }
    },
    {
      "cell_type": "markdown",
      "source": [
        "For this, we start with an empty Sequential model in Keras, and add our layers. The first layer should be accepting our size of our dictionary (that is, the count of each unique word in the text corpus, which was 1000 after preprocessing), and output a reduced size. Since usually numbers of base 2 are chosen, 64 is arbitrarily selected. Then, our first RNN layer is selected - 16 to keep the parameters reasonable. We choose a relu activation function as its default. Afterwards, a fully connected NN layer with 16 nodes is built. And since we are classifying binarily, we need a final layer with node 1 able to classify, hence employing the sigmoid activation function."
      ],
      "metadata": {
        "id": "2Y0TtE791a2D"
      }
    },
    {
      "cell_type": "code",
      "source": [
        "model1 = Sequential()\n",
        "model1.add(Embedding(input_dim=1000, output_dim=64))\n",
        "model1.add(SimpleRNN((16)))\n",
        "model1.add(Dense(16, activation = \"relu\"))\n",
        "model1.add(Dense(1, activation='sigmoid'))\n",
        "model1.summary()"
      ],
      "metadata": {
        "colab": {
          "base_uri": "https://localhost:8080/"
        },
        "id": "CnxgeFhdzI8d",
        "outputId": "a0fc6a9f-a6ae-41ab-df88-3a3668228b26"
      },
      "execution_count": 142,
      "outputs": [
        {
          "output_type": "stream",
          "name": "stdout",
          "text": [
            "Model: \"sequential_8\"\n",
            "_________________________________________________________________\n",
            " Layer (type)                Output Shape              Param #   \n",
            "=================================================================\n",
            " embedding_8 (Embedding)     (None, None, 64)          64000     \n",
            "                                                                 \n",
            " simple_rnn_8 (SimpleRNN)    (None, 16)                1296      \n",
            "                                                                 \n",
            " dense_16 (Dense)            (None, 16)                272       \n",
            "                                                                 \n",
            " dense_17 (Dense)            (None, 1)                 17        \n",
            "                                                                 \n",
            "=================================================================\n",
            "Total params: 65585 (256.19 KB)\n",
            "Trainable params: 65585 (256.19 KB)\n",
            "Non-trainable params: 0 (0.00 Byte)\n",
            "_________________________________________________________________\n"
          ]
        }
      ]
    },
    {
      "cell_type": "markdown",
      "source": [
        "We choose a binary crossentropy loss function (after all, we are dealing with a binary classification problem) and Keras standard stochastic gradient descrent optimizer.  As discussed, we observe accuracy, recall and specificity and additionally MSE as metrics."
      ],
      "metadata": {
        "id": "WfOVcSfd3qth"
      }
    },
    {
      "cell_type": "markdown",
      "source": [
        "We should split off our validation data from the training data - we will try to work with 10% of the dataset as validation data."
      ],
      "metadata": {
        "id": "wP7la4xlPZqU"
      }
    },
    {
      "cell_type": "code",
      "source": [
        "X_train, X_val, y_train, y_val = train_test_split(Train_padded, df_train4[\"target\"].to_numpy(), test_size = .1)"
      ],
      "metadata": {
        "id": "xBvTnLom5V5N"
      },
      "execution_count": 143,
      "outputs": []
    },
    {
      "cell_type": "code",
      "source": [
        "model1.compile(\n",
        "    loss=BinaryCrossentropy(from_logits=False),\n",
        "    optimizer=\"sgd\",\n",
        "    metrics=[\"accuracy\",\"MeanSquaredError\", \"Recall\", \"Precision\"] #,, ,\"recall\" \"MSE\" ,\n",
        ")\n"
      ],
      "metadata": {
        "id": "5WslOQab3iTM"
      },
      "execution_count": 144,
      "outputs": []
    },
    {
      "cell_type": "code",
      "source": [
        "callbacks = [\n",
        "    ModelCheckpoint(\"save_at_{epoch}.keras\"),\n",
        "]"
      ],
      "metadata": {
        "id": "eO151Qf5PxxB"
      },
      "execution_count": 145,
      "outputs": []
    },
    {
      "cell_type": "markdown",
      "source": [
        "We still have to choose a batch size - the more we take, the longer the training and the better the convergence/reliability. We will go with 64 for the time being"
      ],
      "metadata": {
        "id": "-2sqByhrQIhK"
      }
    },
    {
      "cell_type": "code",
      "source": [
        "batch_size = 64"
      ],
      "metadata": {
        "id": "DvM4YddeQTkd"
      },
      "execution_count": 146,
      "outputs": []
    },
    {
      "cell_type": "code",
      "source": [
        "modelfit1 = model1.fit(\n",
        "    X_train, y_train,\n",
        "    validation_data=(X_val, y_val),\n",
        "    batch_size=batch_size,\n",
        "    epochs=5,\n",
        "    callbacks = callbacks\n",
        ")\n"
      ],
      "metadata": {
        "colab": {
          "base_uri": "https://localhost:8080/"
        },
        "id": "9lpnbEQJPzA2",
        "outputId": "7b479ffb-0f72-4efb-e1bd-137ceb47de34"
      },
      "execution_count": 147,
      "outputs": [
        {
          "output_type": "stream",
          "name": "stdout",
          "text": [
            "Epoch 1/5\n",
            "107/107 [==============================] - 71s 651ms/step - loss: 0.6854 - accuracy: 0.5722 - mean_squared_error: 0.2461 - recall: 0.0000e+00 - precision: 0.0000e+00 - val_loss: 0.6830 - val_accuracy: 0.5741 - val_mean_squared_error: 0.2450 - val_recall: 0.0000e+00 - val_precision: 0.0000e+00\n",
            "Epoch 2/5\n",
            "107/107 [==============================] - 66s 617ms/step - loss: 0.6830 - accuracy: 0.5722 - mean_squared_error: 0.2449 - recall: 0.0000e+00 - precision: 0.0000e+00 - val_loss: 0.6821 - val_accuracy: 0.5741 - val_mean_squared_error: 0.2445 - val_recall: 0.0000e+00 - val_precision: 0.0000e+00\n",
            "Epoch 3/5\n",
            "107/107 [==============================] - 64s 602ms/step - loss: 0.6828 - accuracy: 0.5722 - mean_squared_error: 0.2448 - recall: 0.0000e+00 - precision: 0.0000e+00 - val_loss: 0.6822 - val_accuracy: 0.5741 - val_mean_squared_error: 0.2446 - val_recall: 0.0000e+00 - val_precision: 0.0000e+00\n",
            "Epoch 4/5\n",
            "107/107 [==============================] - 63s 589ms/step - loss: 0.6828 - accuracy: 0.5722 - mean_squared_error: 0.2448 - recall: 0.0000e+00 - precision: 0.0000e+00 - val_loss: 0.6822 - val_accuracy: 0.5741 - val_mean_squared_error: 0.2445 - val_recall: 0.0000e+00 - val_precision: 0.0000e+00\n",
            "Epoch 5/5\n",
            "107/107 [==============================] - 66s 612ms/step - loss: 0.6828 - accuracy: 0.5722 - mean_squared_error: 0.2448 - recall: 0.0000e+00 - precision: 0.0000e+00 - val_loss: 0.6822 - val_accuracy: 0.5741 - val_mean_squared_error: 0.2445 - val_recall: 0.0000e+00 - val_precision: 0.0000e+00\n"
          ]
        }
      ]
    },
    {
      "cell_type": "code",
      "source": [
        "plt.plot(modelfit1.history[\"accuracy\"], label = \"Acc\")\n",
        "plt.plot(modelfit1.history[\"val_accuracy\"], label = \"Val. Acc.\")\n",
        "plt.legend()\n",
        "plt.xlabel(\"Epoch\")\n",
        "plt.ylabel(\"Accuracy/%\")\n",
        "plt.show()\n",
        "plt.plot(modelfit1.history[\"recall\"], label = \"Recall\")\n",
        "plt.plot(modelfit1.history[\"val_recall\"], label = \"Val. Recall.\")\n",
        "plt.legend()\n",
        "plt.xlabel(\"Epoch\")\n",
        "plt.ylabel(\"Recall/%\")\n",
        "plt.show()\n",
        "plt.plot(modelfit1.history[\"precision\"], label = \"precision\")\n",
        "plt.plot(modelfit1.history[\"val_precision\"], label = \"Val. precision.\")\n",
        "plt.legend()\n",
        "plt.xlabel(\"Epoch\")\n",
        "plt.ylabel(\"precision/%\")\n",
        "plt.show()\n",
        "plt.plot(modelfit1.history[\"mean_squared_error\"], label = \"MeanSquaredError\")\n",
        "plt.plot(modelfit1.history[\"val_mean_squared_error\"], label = \"Val. MSE\")\n",
        "plt.legend()\n",
        "plt.xlabel(\"Epoch\")\n",
        "plt.ylabel(\"MSE\")\n",
        "plt.show()"
      ],
      "metadata": {
        "colab": {
          "base_uri": "https://localhost:8080/",
          "height": 1000
        },
        "id": "__qqghmye4bw",
        "outputId": "6e20865d-e92a-4781-a17c-e6aa3cc83668"
      },
      "execution_count": 149,
      "outputs": [
        {
          "output_type": "display_data",
          "data": {
            "text/plain": [
              "<Figure size 640x480 with 1 Axes>"
            ],
            "image/png": "[encoded data removed]"
          },
          "metadata": {}
        },
        {
          "output_type": "display_data",
          "data": {
            "text/plain": [
              "<Figure size 640x480 with 1 Axes>"
            ],
            "image/png": "[encoded data removed]"
          },
          "metadata": {}
        },
        {
          "output_type": "display_data",
          "data": {
            "text/plain": [
              "<Figure size 640x480 with 1 Axes>"
            ],
            "image/png": "[encoded data removed]"
          },
          "metadata": {}
        },
        {
          "output_type": "display_data",
          "data": {
            "text/plain": [
              "<Figure size 640x480 with 1 Axes>"
            ],
            "image/png": "[encoded data removed]"
          },
          "metadata": {}
        }
      ]
    },
    {
      "cell_type": "markdown",
      "source": [
        "Even after 5 epochs, we see a stable accuracy result of 57%. This is better than average guessing, but a rather disappointing model. Let's review or model."
      ],
      "metadata": {
        "id": "DNXLZqpZei9g"
      }
    },
    {
      "cell_type": "markdown",
      "source": [
        "## Second model: Increasing the output of the embedding layer"
      ],
      "metadata": {
        "id": "X27YffFaego1"
      }
    },
    {
      "cell_type": "markdown",
      "source": [
        "Should we increase the output dimension of the embedding layer to match our RNN? Let's see if that turns out differently."
      ],
      "metadata": {
        "id": "NPqjDwZheihq"
      }
    },
    {
      "cell_type": "code",
      "source": [
        "model2 = Sequential()\n",
        "model2.add(Embedding(input_dim=1000, output_dim=64))\n",
        "model2.add(SimpleRNN((64)))\n",
        "model2.add(Dense(16, activation = \"relu\"))\n",
        "model2.add(Dense(1, activation='sigmoid'))\n",
        "model2.summary()"
      ],
      "metadata": {
        "colab": {
          "base_uri": "https://localhost:8080/"
        },
        "id": "BpqNuSmgfM9Y",
        "outputId": "770ebf2e-b5ce-4410-afc6-cd23707d6d09"
      },
      "execution_count": 150,
      "outputs": [
        {
          "output_type": "stream",
          "name": "stdout",
          "text": [
            "Model: \"sequential_9\"\n",
            "_________________________________________________________________\n",
            " Layer (type)                Output Shape              Param #   \n",
            "=================================================================\n",
            " embedding_9 (Embedding)     (None, None, 64)          64000     \n",
            "                                                                 \n",
            " simple_rnn_9 (SimpleRNN)    (None, 64)                8256      \n",
            "                                                                 \n",
            " dense_18 (Dense)            (None, 16)                1040      \n",
            "                                                                 \n",
            " dense_19 (Dense)            (None, 1)                 17        \n",
            "                                                                 \n",
            "=================================================================\n",
            "Total params: 73313 (286.38 KB)\n",
            "Trainable params: 73313 (286.38 KB)\n",
            "Non-trainable params: 0 (0.00 Byte)\n",
            "_________________________________________________________________\n"
          ]
        }
      ]
    },
    {
      "cell_type": "code",
      "source": [
        "model2.compile(\n",
        "    loss=BinaryCrossentropy(from_logits=False),\n",
        "    optimizer=\"sgd\",\n",
        "    metrics=[\"accuracy\",\"MeanSquaredError\", \"Recall\", \"Precision\"] #,, ,\"recall\" \"MSE\" ,\n",
        ")\n"
      ],
      "metadata": {
        "id": "BY4ItlwxfNc1"
      },
      "execution_count": 151,
      "outputs": []
    },
    {
      "cell_type": "code",
      "source": [
        "modelfit2 = model2.fit(\n",
        "    X_train, y_train,\n",
        "    validation_data=(X_val, y_val),\n",
        "    batch_size=batch_size,\n",
        "    epochs=5,\n",
        "    callbacks = callbacks\n",
        ")\n"
      ],
      "metadata": {
        "colab": {
          "base_uri": "https://localhost:8080/"
        },
        "id": "q1GkuYqtfWL-",
        "outputId": "1c17a392-405a-42ca-cb5f-b66543d2c9f2"
      },
      "execution_count": 152,
      "outputs": [
        {
          "output_type": "stream",
          "name": "stdout",
          "text": [
            "Epoch 1/5\n",
            "107/107 [==============================] - 69s 627ms/step - loss: 0.6838 - accuracy: 0.5722 - mean_squared_error: 0.2453 - recall: 0.0000e+00 - precision: 0.0000e+00 - val_loss: 0.6824 - val_accuracy: 0.5741 - val_mean_squared_error: 0.2446 - val_recall: 0.0000e+00 - val_precision: 0.0000e+00\n",
            "Epoch 2/5\n",
            "107/107 [==============================] - 66s 620ms/step - loss: 0.6830 - accuracy: 0.5722 - mean_squared_error: 0.2449 - recall: 0.0000e+00 - precision: 0.0000e+00 - val_loss: 0.6821 - val_accuracy: 0.5741 - val_mean_squared_error: 0.2445 - val_recall: 0.0000e+00 - val_precision: 0.0000e+00\n",
            "Epoch 3/5\n",
            "107/107 [==============================] - 66s 612ms/step - loss: 0.6830 - accuracy: 0.5722 - mean_squared_error: 0.2449 - recall: 0.0000e+00 - precision: 0.0000e+00 - val_loss: 0.6822 - val_accuracy: 0.5741 - val_mean_squared_error: 0.2446 - val_recall: 0.0000e+00 - val_precision: 0.0000e+00\n",
            "Epoch 4/5\n",
            "107/107 [==============================] - 66s 614ms/step - loss: 0.6830 - accuracy: 0.5722 - mean_squared_error: 0.2450 - recall: 0.0000e+00 - precision: 0.0000e+00 - val_loss: 0.6823 - val_accuracy: 0.5741 - val_mean_squared_error: 0.2446 - val_recall: 0.0000e+00 - val_precision: 0.0000e+00\n",
            "Epoch 5/5\n",
            "107/107 [==============================] - 64s 599ms/step - loss: 0.6830 - accuracy: 0.5722 - mean_squared_error: 0.2450 - recall: 0.0000e+00 - precision: 0.0000e+00 - val_loss: 0.6821 - val_accuracy: 0.5741 - val_mean_squared_error: 0.2445 - val_recall: 0.0000e+00 - val_precision: 0.0000e+00\n"
          ]
        }
      ]
    },
    {
      "cell_type": "markdown",
      "source": [
        "This had no measurable impact on our model (at least in terms of accuracy)."
      ],
      "metadata": {
        "id": "VbDGQhb_f0sU"
      }
    },
    {
      "cell_type": "markdown",
      "source": [
        "## Third model"
      ],
      "metadata": {
        "id": "JdDyvpDBf0mP"
      }
    },
    {
      "cell_type": "markdown",
      "source": [
        "Is our NN the bottle-neck - should we allow more fully connected nodes? We increase the number accordingly and try again:"
      ],
      "metadata": {
        "id": "0Z1jZcoVggnU"
      }
    },
    {
      "cell_type": "code",
      "source": [
        "model3 = Sequential()\n",
        "model3.add(Embedding(input_dim=1000, output_dim=64))\n",
        "model3.add(SimpleRNN((64)))\n",
        "model3.add(Dense(64, activation = \"relu\"))\n",
        "model3.add(Dense(1, activation='sigmoid'))\n",
        "model3.summary()"
      ],
      "metadata": {
        "colab": {
          "base_uri": "https://localhost:8080/"
        },
        "id": "75fbxncvfz7B",
        "outputId": "9ff52c79-4bd7-4e24-fa23-649c61e60bcf"
      },
      "execution_count": 153,
      "outputs": [
        {
          "output_type": "stream",
          "name": "stdout",
          "text": [
            "Model: \"sequential_10\"\n",
            "_________________________________________________________________\n",
            " Layer (type)                Output Shape              Param #   \n",
            "=================================================================\n",
            " embedding_10 (Embedding)    (None, None, 64)          64000     \n",
            "                                                                 \n",
            " simple_rnn_10 (SimpleRNN)   (None, 64)                8256      \n",
            "                                                                 \n",
            " dense_20 (Dense)            (None, 64)                4160      \n",
            "                                                                 \n",
            " dense_21 (Dense)            (None, 1)                 65        \n",
            "                                                                 \n",
            "=================================================================\n",
            "Total params: 76481 (298.75 KB)\n",
            "Trainable params: 76481 (298.75 KB)\n",
            "Non-trainable params: 0 (0.00 Byte)\n",
            "_________________________________________________________________\n"
          ]
        }
      ]
    },
    {
      "cell_type": "code",
      "source": [
        "model3.compile(\n",
        "    loss=BinaryCrossentropy(from_logits=False),\n",
        "    optimizer=\"sgd\",\n",
        "    metrics=[\"accuracy\",\"MeanSquaredError\", \"Recall\", \"Precision\"] #,, ,\"recall\" \"MSE\" ,\n",
        ")\n"
      ],
      "metadata": {
        "id": "iF5A6OjGf0JB"
      },
      "execution_count": 154,
      "outputs": []
    },
    {
      "cell_type": "code",
      "source": [
        "modelfit3 = model3.fit(\n",
        "    X_train, y_train,\n",
        "    validation_data=(X_val, y_val),\n",
        "    batch_size=batch_size,\n",
        "    epochs=3,\n",
        "    callbacks = callbacks\n",
        ")\n"
      ],
      "metadata": {
        "colab": {
          "base_uri": "https://localhost:8080/"
        },
        "id": "PlCpZHh0gabr",
        "outputId": "ad7feb32-b6ed-4f37-8513-18988b8ee250"
      },
      "execution_count": 155,
      "outputs": [
        {
          "output_type": "stream",
          "name": "stdout",
          "text": [
            "Epoch 1/3\n",
            "107/107 [==============================] - 68s 620ms/step - loss: 0.6827 - accuracy: 0.5696 - mean_squared_error: 0.2448 - recall: 0.0299 - precision: 0.4531 - val_loss: 0.6825 - val_accuracy: 0.5741 - val_mean_squared_error: 0.2447 - val_recall: 0.0000e+00 - val_precision: 0.0000e+00\n",
            "Epoch 2/3\n",
            "107/107 [==============================] - 63s 588ms/step - loss: 0.6829 - accuracy: 0.5722 - mean_squared_error: 0.2449 - recall: 0.0000e+00 - precision: 0.0000e+00 - val_loss: 0.6823 - val_accuracy: 0.5741 - val_mean_squared_error: 0.2446 - val_recall: 0.0000e+00 - val_precision: 0.0000e+00\n",
            "Epoch 3/3\n",
            "107/107 [==============================] - 63s 589ms/step - loss: 0.6829 - accuracy: 0.5722 - mean_squared_error: 0.2449 - recall: 0.0000e+00 - precision: 0.0000e+00 - val_loss: 0.6822 - val_accuracy: 0.5741 - val_mean_squared_error: 0.2445 - val_recall: 0.0000e+00 - val_precision: 0.0000e+00\n"
          ]
        }
      ]
    },
    {
      "cell_type": "markdown",
      "source": [
        "So, at least for now, we do not achieve any reasonable increase in accuracy with more nodes in the densily connected layer."
      ],
      "metadata": {
        "id": "6KSJJ-sPhV4I"
      }
    },
    {
      "cell_type": "markdown",
      "source": [
        "## Fourth model: Revert back to 16 densily connected nodes, increase output of embedding layer"
      ],
      "metadata": {
        "id": "hKrSqY69hcpt"
      }
    },
    {
      "cell_type": "markdown",
      "source": [
        "So, assuming that our information cannot be embedded in 64 layers from a starting corpus of 1000, maybe we should increase the embedding output? Let's increase the embedding layers output as well as the number of nodes in the RNN"
      ],
      "metadata": {
        "id": "soCqJu_ihjmk"
      }
    },
    {
      "cell_type": "code",
      "source": [
        "model4 = Sequential()\n",
        "model4.add(Embedding(input_dim=1000, output_dim=128))\n",
        "model4.add(SimpleRNN((128)))\n",
        "model4.add(Dense(16, activation = \"relu\"))\n",
        "model4.add(Dense(1, activation='sigmoid'))\n",
        "model4.summary()"
      ],
      "metadata": {
        "colab": {
          "base_uri": "https://localhost:8080/"
        },
        "id": "rx7mg7uuhisF",
        "outputId": "57d77456-cf28-4fcd-887f-bf65772c2d2a"
      },
      "execution_count": 156,
      "outputs": [
        {
          "output_type": "stream",
          "name": "stdout",
          "text": [
            "Model: \"sequential_11\"\n",
            "_________________________________________________________________\n",
            " Layer (type)                Output Shape              Param #   \n",
            "=================================================================\n",
            " embedding_11 (Embedding)    (None, None, 128)         128000    \n",
            "                                                                 \n",
            " simple_rnn_11 (SimpleRNN)   (None, 128)               32896     \n",
            "                                                                 \n",
            " dense_22 (Dense)            (None, 16)                2064      \n",
            "                                                                 \n",
            " dense_23 (Dense)            (None, 1)                 17        \n",
            "                                                                 \n",
            "=================================================================\n",
            "Total params: 162977 (636.63 KB)\n",
            "Trainable params: 162977 (636.63 KB)\n",
            "Non-trainable params: 0 (0.00 Byte)\n",
            "_________________________________________________________________\n"
          ]
        }
      ]
    },
    {
      "cell_type": "code",
      "source": [
        "model4.compile(\n",
        "    loss=BinaryCrossentropy(from_logits=False),\n",
        "    optimizer=\"sgd\",\n",
        "    metrics=[\"accuracy\",\"MeanSquaredError\", \"Recall\", \"Precision\"] #,, ,\"recall\" \"MSE\" ,\n",
        ")\n"
      ],
      "metadata": {
        "id": "AyZBa7mNhwHf"
      },
      "execution_count": 157,
      "outputs": []
    },
    {
      "cell_type": "code",
      "source": [
        "modelfit4 = model4.fit(\n",
        "    X_train, y_train,\n",
        "    validation_data=(X_val, y_val),\n",
        "    batch_size=batch_size,\n",
        "    epochs=3,\n",
        "    callbacks = callbacks\n",
        ")\n"
      ],
      "metadata": {
        "colab": {
          "base_uri": "https://localhost:8080/"
        },
        "id": "2P6o9DYXhwqI",
        "outputId": "02b9e3ec-0a15-40c0-ec28-4fa69c546636"
      },
      "execution_count": 158,
      "outputs": [
        {
          "output_type": "stream",
          "name": "stdout",
          "text": [
            "Epoch 1/3\n",
            "107/107 [==============================] - 72s 663ms/step - loss: 0.6839 - accuracy: 0.5722 - mean_squared_error: 0.2454 - recall: 0.0000e+00 - precision: 0.0000e+00 - val_loss: 0.6822 - val_accuracy: 0.5741 - val_mean_squared_error: 0.2445 - val_recall: 0.0000e+00 - val_precision: 0.0000e+00\n",
            "Epoch 2/3\n",
            "107/107 [==============================] - 69s 642ms/step - loss: 0.6829 - accuracy: 0.5722 - mean_squared_error: 0.2449 - recall: 0.0000e+00 - precision: 0.0000e+00 - val_loss: 0.6834 - val_accuracy: 0.5741 - val_mean_squared_error: 0.2451 - val_recall: 0.0000e+00 - val_precision: 0.0000e+00\n",
            "Epoch 3/3\n",
            "107/107 [==============================] - 68s 639ms/step - loss: 0.6833 - accuracy: 0.5722 - mean_squared_error: 0.2451 - recall: 0.0000e+00 - precision: 0.0000e+00 - val_loss: 0.6861 - val_accuracy: 0.5741 - val_mean_squared_error: 0.2464 - val_recall: 0.0000e+00 - val_precision: 0.0000e+00\n"
          ]
        }
      ]
    },
    {
      "cell_type": "markdown",
      "source": [
        "Again, we see no improvement."
      ],
      "metadata": {
        "id": "a0IVwWCYipIF"
      }
    },
    {
      "cell_type": "markdown",
      "source": [
        "## Fifth and sixth model: Replacing simple RNN with LSTM or GRU"
      ],
      "metadata": {
        "id": "NQZQcs-wi2T_"
      }
    },
    {
      "cell_type": "markdown",
      "source": [
        "Maybe we should try another RNN - like LSTM or GRU?"
      ],
      "metadata": {
        "id": "C-dowQsSjj0H"
      }
    },
    {
      "cell_type": "code",
      "source": [
        "model5 = Sequential()\n",
        "model5.add(Embedding(input_dim=1000, output_dim=128))\n",
        "model5.add(GRU((128)))\n",
        "model5.add(Dense(16, activation = \"relu\"))\n",
        "model5.add(Dense(1, activation='sigmoid'))\n",
        "model5.summary()"
      ],
      "metadata": {
        "colab": {
          "base_uri": "https://localhost:8080/"
        },
        "id": "Q3gRxdbyjB43",
        "outputId": "737af603-ff6a-4707-8f0c-b53dfbb69973"
      },
      "execution_count": 171,
      "outputs": [
        {
          "output_type": "stream",
          "name": "stdout",
          "text": [
            "Model: \"sequential_15\"\n",
            "_________________________________________________________________\n",
            " Layer (type)                Output Shape              Param #   \n",
            "=================================================================\n",
            " embedding_15 (Embedding)    (None, None, 128)         128000    \n",
            "                                                                 \n",
            " gru (GRU)                   (None, 128)               99072     \n",
            "                                                                 \n",
            " dense_30 (Dense)            (None, 16)                2064      \n",
            "                                                                 \n",
            " dense_31 (Dense)            (None, 1)                 17        \n",
            "                                                                 \n",
            "=================================================================\n",
            "Total params: 229153 (895.13 KB)\n",
            "Trainable params: 229153 (895.13 KB)\n",
            "Non-trainable params: 0 (0.00 Byte)\n",
            "_________________________________________________________________\n"
          ]
        }
      ]
    },
    {
      "cell_type": "code",
      "source": [
        "model5.compile(\n",
        "    loss=BinaryCrossentropy(from_logits=False),\n",
        "    optimizer=\"sgd\",\n",
        "    metrics=[\"accuracy\",\"MeanSquaredError\", \"Recall\", \"Precision\"] #,, ,\"recall\" \"MSE\" ,\n",
        ")\n"
      ],
      "metadata": {
        "id": "lkMmrDEZjCnH"
      },
      "execution_count": 172,
      "outputs": []
    },
    {
      "cell_type": "code",
      "source": [
        "modelfit5 = model5.fit(\n",
        "    X_train, y_train,\n",
        "    validation_data=(X_val, y_val),\n",
        "    batch_size=batch_size,\n",
        "    epochs=5,\n",
        "    callbacks = callbacks\n",
        ")\n"
      ],
      "metadata": {
        "colab": {
          "base_uri": "https://localhost:8080/"
        },
        "id": "KDFhqrznjDRD",
        "outputId": "c4824081-0685-43be-f1e2-06a798b265c7"
      },
      "execution_count": 173,
      "outputs": [
        {
          "output_type": "stream",
          "name": "stdout",
          "text": [
            "Epoch 1/5\n",
            "107/107 [==============================] - 8s 61ms/step - loss: 0.6873 - accuracy: 0.5722 - mean_squared_error: 0.2471 - recall: 0.0000e+00 - precision: 0.0000e+00 - val_loss: 0.6844 - val_accuracy: 0.5741 - val_mean_squared_error: 0.2456 - val_recall: 0.0000e+00 - val_precision: 0.0000e+00\n",
            "Epoch 2/5\n",
            "107/107 [==============================] - 5s 42ms/step - loss: 0.6838 - accuracy: 0.5722 - mean_squared_error: 0.2453 - recall: 0.0000e+00 - precision: 0.0000e+00 - val_loss: 0.6828 - val_accuracy: 0.5741 - val_mean_squared_error: 0.2449 - val_recall: 0.0000e+00 - val_precision: 0.0000e+00\n",
            "Epoch 3/5\n",
            "107/107 [==============================] - 4s 38ms/step - loss: 0.6830 - accuracy: 0.5722 - mean_squared_error: 0.2450 - recall: 0.0000e+00 - precision: 0.0000e+00 - val_loss: 0.6823 - val_accuracy: 0.5741 - val_mean_squared_error: 0.2446 - val_recall: 0.0000e+00 - val_precision: 0.0000e+00\n",
            "Epoch 4/5\n",
            "107/107 [==============================] - 4s 38ms/step - loss: 0.6828 - accuracy: 0.5722 - mean_squared_error: 0.2448 - recall: 0.0000e+00 - precision: 0.0000e+00 - val_loss: 0.6822 - val_accuracy: 0.5741 - val_mean_squared_error: 0.2445 - val_recall: 0.0000e+00 - val_precision: 0.0000e+00\n",
            "Epoch 5/5\n",
            "107/107 [==============================] - 4s 38ms/step - loss: 0.6827 - accuracy: 0.5722 - mean_squared_error: 0.2448 - recall: 0.0000e+00 - precision: 0.0000e+00 - val_loss: 0.6821 - val_accuracy: 0.5741 - val_mean_squared_error: 0.2445 - val_recall: 0.0000e+00 - val_precision: 0.0000e+00\n"
          ]
        }
      ]
    },
    {
      "cell_type": "code",
      "source": [
        "model6 = Sequential()\n",
        "model6.add(Embedding(input_dim=1000, output_dim=128))\n",
        "model6.add(LSTM((128)))\n",
        "model6.add(Dense(16, activation = \"relu\"))\n",
        "model6.add(Dense(1, activation='sigmoid'))\n",
        "model6.summary()\n",
        "model6.compile(\n",
        "    loss=BinaryCrossentropy(from_logits=False),\n",
        "    optimizer=\"sgd\",\n",
        "    metrics=[\"accuracy\",\"MeanSquaredError\", \"Recall\", \"Precision\"] #,, ,\"recall\" \"MSE\" ,\n",
        ")\n",
        "modelfit6 = model6.fit(\n",
        "    X_train, y_train,\n",
        "    validation_data=(X_val, y_val),\n",
        "    batch_size=batch_size,\n",
        "    epochs=5,\n",
        "    callbacks = callbacks\n",
        ")\n"
      ],
      "metadata": {
        "colab": {
          "base_uri": "https://localhost:8080/"
        },
        "id": "qhqRl8qmkBIj",
        "outputId": "f34f11cc-ccf2-47c8-a637-5e34194e6c64"
      },
      "execution_count": 174,
      "outputs": [
        {
          "output_type": "stream",
          "name": "stdout",
          "text": [
            "Model: \"sequential_16\"\n",
            "_________________________________________________________________\n",
            " Layer (type)                Output Shape              Param #   \n",
            "=================================================================\n",
            " embedding_16 (Embedding)    (None, None, 128)         128000    \n",
            "                                                                 \n",
            " lstm_2 (LSTM)               (None, 128)               131584    \n",
            "                                                                 \n",
            " dense_32 (Dense)            (None, 16)                2064      \n",
            "                                                                 \n",
            " dense_33 (Dense)            (None, 1)                 17        \n",
            "                                                                 \n",
            "=================================================================\n",
            "Total params: 261665 (1022.13 KB)\n",
            "Trainable params: 261665 (1022.13 KB)\n",
            "Non-trainable params: 0 (0.00 Byte)\n",
            "_________________________________________________________________\n",
            "Epoch 1/5\n",
            "107/107 [==============================] - 9s 60ms/step - loss: 0.6872 - accuracy: 0.5661 - mean_squared_error: 0.2470 - recall: 0.0478 - precision: 0.4344 - val_loss: 0.6839 - val_accuracy: 0.5741 - val_mean_squared_error: 0.2454 - val_recall: 0.0000e+00 - val_precision: 0.0000e+00\n",
            "Epoch 2/5\n",
            "107/107 [==============================] - 5s 44ms/step - loss: 0.6835 - accuracy: 0.5722 - mean_squared_error: 0.2452 - recall: 0.0000e+00 - precision: 0.0000e+00 - val_loss: 0.6826 - val_accuracy: 0.5741 - val_mean_squared_error: 0.2447 - val_recall: 0.0000e+00 - val_precision: 0.0000e+00\n",
            "Epoch 3/5\n",
            "107/107 [==============================] - 4s 38ms/step - loss: 0.6829 - accuracy: 0.5722 - mean_squared_error: 0.2449 - recall: 0.0000e+00 - precision: 0.0000e+00 - val_loss: 0.6823 - val_accuracy: 0.5741 - val_mean_squared_error: 0.2446 - val_recall: 0.0000e+00 - val_precision: 0.0000e+00\n",
            "Epoch 4/5\n",
            "107/107 [==============================] - 4s 37ms/step - loss: 0.6828 - accuracy: 0.5722 - mean_squared_error: 0.2448 - recall: 0.0000e+00 - precision: 0.0000e+00 - val_loss: 0.6822 - val_accuracy: 0.5741 - val_mean_squared_error: 0.2445 - val_recall: 0.0000e+00 - val_precision: 0.0000e+00\n",
            "Epoch 5/5\n",
            "107/107 [==============================] - 4s 37ms/step - loss: 0.6828 - accuracy: 0.5722 - mean_squared_error: 0.2448 - recall: 0.0000e+00 - precision: 0.0000e+00 - val_loss: 0.6822 - val_accuracy: 0.5741 - val_mean_squared_error: 0.2445 - val_recall: 0.0000e+00 - val_precision: 0.0000e+00\n"
          ]
        }
      ]
    },
    {
      "cell_type": "markdown",
      "source": [
        "GRU and LSTM are way more performant compared to simpleRNN, but cannot reach higher accuracy."
      ],
      "metadata": {
        "id": "AyupSBdzjx2X"
      }
    },
    {
      "cell_type": "markdown",
      "source": [
        "## Eight model: Adding another RNN layer"
      ],
      "metadata": {
        "id": "h-D8tJ7YkKAn"
      }
    },
    {
      "cell_type": "markdown",
      "source": [
        "We could try to add another LSTM layer receiving the input from the previous:"
      ],
      "metadata": {
        "id": "M7xYN6ctlvnT"
      }
    },
    {
      "cell_type": "code",
      "source": [
        "model7 = Sequential()\n",
        "model7.add(Embedding(input_dim=1000, output_dim=128))\n",
        "model7.add(LSTM(128, return_sequences=True))\n",
        "model7.add(LSTM(256))\n",
        "model7.add(Dense(16, activation = \"relu\"))\n",
        "model7.add(Dense(1, activation='sigmoid'))\n",
        "model7.summary()\n",
        "\n",
        "model7.compile(\n",
        "    loss=BinaryCrossentropy(from_logits=False),\n",
        "    optimizer=\"sgd\",\n",
        "    metrics=[\"accuracy\",\"MeanSquaredError\", \"Recall\", \"Precision\"] #,, ,\"recall\" \"MSE\" ,\n",
        ")\n",
        "\n",
        "modelfit7 = model7.fit(\n",
        "    X_train, y_train,\n",
        "    validation_data=(X_val, y_val),\n",
        "    batch_size=batch_size,\n",
        "    epochs=5,\n",
        "    callbacks = callbacks\n",
        ")\n"
      ],
      "metadata": {
        "colab": {
          "base_uri": "https://localhost:8080/"
        },
        "id": "r1nnE3Iuj4Ph",
        "outputId": "cc04b9ed-43b5-44f6-d9ab-3e69929895ae"
      },
      "execution_count": 186,
      "outputs": [
        {
          "output_type": "stream",
          "name": "stdout",
          "text": [
            "Model: \"sequential_26\"\n",
            "_________________________________________________________________\n",
            " Layer (type)                Output Shape              Param #   \n",
            "=================================================================\n",
            " embedding_26 (Embedding)    (None, None, 128)         128000    \n",
            "                                                                 \n",
            " lstm_16 (LSTM)              (None, None, 128)         131584    \n",
            "                                                                 \n",
            " lstm_17 (LSTM)              (None, 256)               394240    \n",
            "                                                                 \n",
            " dense_34 (Dense)            (None, 16)                4112      \n",
            "                                                                 \n",
            " dense_35 (Dense)            (None, 1)                 17        \n",
            "                                                                 \n",
            "=================================================================\n",
            "Total params: 657953 (2.51 MB)\n",
            "Trainable params: 657953 (2.51 MB)\n",
            "Non-trainable params: 0 (0.00 Byte)\n",
            "_________________________________________________________________\n",
            "Epoch 1/5\n",
            "107/107 [==============================] - 13s 94ms/step - loss: 0.6870 - accuracy: 0.5667 - mean_squared_error: 0.2469 - recall: 0.0265 - precision: 0.4010 - val_loss: 0.6835 - val_accuracy: 0.5741 - val_mean_squared_error: 0.2452 - val_recall: 0.0000e+00 - val_precision: 0.0000e+00\n",
            "Epoch 2/5\n",
            "107/107 [==============================] - 8s 74ms/step - loss: 0.6832 - accuracy: 0.5722 - mean_squared_error: 0.2451 - recall: 0.0000e+00 - precision: 0.0000e+00 - val_loss: 0.6823 - val_accuracy: 0.5741 - val_mean_squared_error: 0.2446 - val_recall: 0.0000e+00 - val_precision: 0.0000e+00\n",
            "Epoch 3/5\n",
            "107/107 [==============================] - 8s 71ms/step - loss: 0.6828 - accuracy: 0.5722 - mean_squared_error: 0.2448 - recall: 0.0000e+00 - precision: 0.0000e+00 - val_loss: 0.6822 - val_accuracy: 0.5741 - val_mean_squared_error: 0.2446 - val_recall: 0.0000e+00 - val_precision: 0.0000e+00\n",
            "Epoch 4/5\n",
            "107/107 [==============================] - 7s 67ms/step - loss: 0.6828 - accuracy: 0.5722 - mean_squared_error: 0.2448 - recall: 0.0000e+00 - precision: 0.0000e+00 - val_loss: 0.6822 - val_accuracy: 0.5741 - val_mean_squared_error: 0.2445 - val_recall: 0.0000e+00 - val_precision: 0.0000e+00\n",
            "Epoch 5/5\n",
            "107/107 [==============================] - 7s 66ms/step - loss: 0.6827 - accuracy: 0.5722 - mean_squared_error: 0.2448 - recall: 0.0000e+00 - precision: 0.0000e+00 - val_loss: 0.6821 - val_accuracy: 0.5741 - val_mean_squared_error: 0.2445 - val_recall: 0.0000e+00 - val_precision: 0.0000e+00\n"
          ]
        }
      ]
    },
    {
      "cell_type": "markdown",
      "source": [
        "And still, we cannot achieve more than 57% accuracy. At this point, it appears that we are limited by the proprocessing performed."
      ],
      "metadata": {
        "id": "HEW4QzY3l4CS"
      }
    },
    {
      "cell_type": "markdown",
      "source": [
        "## Going back to preprocessing: Modifying the virtual dictionary:"
      ],
      "metadata": {
        "id": "N5AthoHYmNKF"
      }
    },
    {
      "cell_type": "markdown",
      "source": [
        "So, assuming we are increasing or decreasing our token size, does this yield different results? We try a maximum length of 2000 and 200, respectively."
      ],
      "metadata": {
        "id": "0Fky3OzfmNEu"
      }
    },
    {
      "cell_type": "code",
      "source": [
        "#test\n",
        "Token2 = keras.preprocessing.text.Tokenizer()\n",
        "Token2.fit_on_texts(df_train4[\"text\"])\n",
        "Trained2 = Token2.texts_to_sequences(df_train4[\"text\"])\n",
        "Train_padded2 = keras.utils.pad_sequences(Trained2, maxlen=2000, padding='post')\n",
        "Token_test2 = keras.preprocessing.text.Tokenizer()\n",
        "Token_test2.fit_on_texts(df_test[\"text\"])\n",
        "Tested2 = Token_test2.texts_to_sequences(df_test[\"text\"])\n",
        "Test_padded2 = keras.utils.pad_sequences(Tested2, maxlen=2000, padding='post')"
      ],
      "metadata": {
        "id": "ybFENjIjmOEB"
      },
      "execution_count": 199,
      "outputs": []
    },
    {
      "cell_type": "code",
      "source": [
        "X_train2, X_val2, y_train2, y_val2 = train_test_split(Train_padded2, df_train4[\"target\"].to_numpy(), test_size = .1)"
      ],
      "metadata": {
        "id": "3RezMXttnLwG"
      },
      "execution_count": 200,
      "outputs": []
    },
    {
      "cell_type": "code",
      "source": [
        "model8 = Sequential()\n",
        "model8.add(Embedding(input_dim=2000, output_dim=128))\n",
        "model8.add(LSTM(128, return_sequences=True))\n",
        "model8.add(LSTM(256))\n",
        "model8.add(Dense(16, activation = \"relu\"))\n",
        "model8.add(Dense(1, activation='sigmoid'))\n",
        "model8.summary()\n",
        "\n",
        "model8.compile(\n",
        "    loss=BinaryCrossentropy(from_logits=False),\n",
        "    optimizer=\"sgd\",\n",
        "    metrics=[\"accuracy\",\"MeanSquaredError\", \"Recall\", \"Precision\"] #,, ,\"recall\" \"MSE\" ,\n",
        ")\n",
        "\n",
        "modelfit8 = model8.fit(\n",
        "    X_train2, y_train2,\n",
        "    validation_data=(X_val2, y_val2),\n",
        "    batch_size=batch_size,\n",
        "    epochs=3,\n",
        "    callbacks = callbacks\n",
        ")\n"
      ],
      "metadata": {
        "colab": {
          "base_uri": "https://localhost:8080/"
        },
        "id": "NzNbHPJknDwW",
        "outputId": "9df3ca58-cfed-48ac-9196-264ae537caa1"
      },
      "execution_count": 202,
      "outputs": [
        {
          "output_type": "stream",
          "name": "stdout",
          "text": [
            "Model: \"sequential_34\"\n",
            "_________________________________________________________________\n",
            " Layer (type)                Output Shape              Param #   \n",
            "=================================================================\n",
            " embedding_34 (Embedding)    (None, None, 128)         256000    \n",
            "                                                                 \n",
            " lstm_32 (LSTM)              (None, None, 128)         131584    \n",
            "                                                                 \n",
            " lstm_33 (LSTM)              (None, 256)               394240    \n",
            "                                                                 \n",
            " dense_50 (Dense)            (None, 16)                4112      \n",
            "                                                                 \n",
            " dense_51 (Dense)            (None, 1)                 17        \n",
            "                                                                 \n",
            "=================================================================\n",
            "Total params: 785953 (3.00 MB)\n",
            "Trainable params: 785953 (3.00 MB)\n",
            "Non-trainable params: 0 (0.00 Byte)\n",
            "_________________________________________________________________\n",
            "Epoch 1/3\n",
            "107/107 [==============================] - 19s 153ms/step - loss: 0.6895 - accuracy: 0.5606 - mean_squared_error: 0.2482 - recall: 0.0663 - precision: 0.4330 - val_loss: 0.6832 - val_accuracy: 0.5992 - val_mean_squared_error: 0.2450 - val_recall: 0.0000e+00 - val_precision: 0.0000e+00\n",
            "Epoch 2/3\n",
            "107/107 [==============================] - 14s 130ms/step - loss: 0.6854 - accuracy: 0.5695 - mean_squared_error: 0.2461 - recall: 0.0000e+00 - precision: 0.0000e+00 - val_loss: 0.6790 - val_accuracy: 0.5992 - val_mean_squared_error: 0.2430 - val_recall: 0.0000e+00 - val_precision: 0.0000e+00\n",
            "Epoch 3/3\n",
            "107/107 [==============================] - 13s 126ms/step - loss: 0.6841 - accuracy: 0.5695 - mean_squared_error: 0.2455 - recall: 0.0000e+00 - precision: 0.0000e+00 - val_loss: 0.6770 - val_accuracy: 0.5992 - val_mean_squared_error: 0.2420 - val_recall: 0.0000e+00 - val_precision: 0.0000e+00\n"
          ]
        }
      ]
    },
    {
      "cell_type": "code",
      "source": [
        "#test\n",
        "Token2 = keras.preprocessing.text.Tokenizer()\n",
        "Token2.fit_on_texts(df_train4[\"text\"])\n",
        "Trained2 = Token2.texts_to_sequences(df_train4[\"text\"])\n",
        "Train_padded2 = keras.utils.pad_sequences(Trained2, maxlen=200, padding='post')\n",
        "Token_test2 = keras.preprocessing.text.Tokenizer()\n",
        "Token_test2.fit_on_texts(df_test[\"text\"])\n",
        "Tested2 = Token_test2.texts_to_sequences(df_test[\"text\"])\n",
        "Test_padded2 = keras.utils.pad_sequences(Tested2, maxlen=200, padding='post')"
      ],
      "metadata": {
        "id": "lvXbURqtnkRN"
      },
      "execution_count": 262,
      "outputs": []
    },
    {
      "cell_type": "code",
      "source": [
        "X_train2, X_val2, y_train2, y_val2 = train_test_split(Train_padded2, df_train4[\"target\"].to_numpy(), test_size = .1)"
      ],
      "metadata": {
        "id": "PgCfbriLnlOT"
      },
      "execution_count": 263,
      "outputs": []
    },
    {
      "cell_type": "code",
      "source": [
        "model8 = Sequential()\n",
        "model8.add(Embedding(input_dim=200, output_dim=128))\n",
        "model8.add(LSTM(128, return_sequences=True))\n",
        "model8.add(LSTM(256))\n",
        "model8.add(Dense(16, activation = \"relu\"))\n",
        "model8.add(Dense(1, activation='sigmoid'))\n",
        "model8.summary()\n",
        "\n",
        "model8.compile(\n",
        "    loss=BinaryCrossentropy(from_logits=False),\n",
        "    optimizer=\"sgd\",\n",
        "    metrics=[\"accuracy\",\"MeanSquaredError\", \"Recall\", \"Precision\"] #,, ,\"recall\" \"MSE\" ,\n",
        ")\n",
        "\n",
        "modelfit8 = model8.fit(\n",
        "    X_train2, y_train2,\n",
        "    validation_data=(X_val2, y_val2),\n",
        "    batch_size=batch_size,\n",
        "    epochs=5,\n",
        "    callbacks = callbacks\n",
        ")\n"
      ],
      "metadata": {
        "colab": {
          "base_uri": "https://localhost:8080/"
        },
        "id": "iwy0tUvRnl7Y",
        "outputId": "9cf6dd8d-9dba-46fd-a8ff-b5b437ebbde1"
      },
      "execution_count": 264,
      "outputs": [
        {
          "output_type": "stream",
          "name": "stdout",
          "text": [
            "Model: \"sequential_64\"\n",
            "_________________________________________________________________\n",
            " Layer (type)                Output Shape              Param #   \n",
            "=================================================================\n",
            " embedding_48 (Embedding)    (None, None, 128)         25600     \n",
            "                                                                 \n",
            " lstm_52 (LSTM)              (None, None, 128)         131584    \n",
            "                                                                 \n",
            " lstm_53 (LSTM)              (None, 256)               394240    \n",
            "                                                                 \n",
            " dense_101 (Dense)           (None, 16)                4112      \n",
            "                                                                 \n",
            " dense_102 (Dense)           (None, 1)                 17        \n",
            "                                                                 \n",
            "=================================================================\n",
            "Total params: 555553 (2.12 MB)\n",
            "Trainable params: 555553 (2.12 MB)\n",
            "Non-trainable params: 0 (0.00 Byte)\n",
            "_________________________________________________________________\n",
            "Epoch 1/5\n",
            "107/107 [==============================] - 9s 52ms/step - loss: 0.6870 - accuracy: 0.5702 - mean_squared_error: 0.2469 - recall: 0.0000e+00 - precision: 0.0000e+00 - val_loss: 0.6796 - val_accuracy: 0.5926 - val_mean_squared_error: 0.2432 - val_recall: 0.0000e+00 - val_precision: 0.0000e+00\n",
            "Epoch 2/5\n",
            "107/107 [==============================] - 3s 27ms/step - loss: 0.6837 - accuracy: 0.5702 - mean_squared_error: 0.2453 - recall: 0.0000e+00 - precision: 0.0000e+00 - val_loss: 0.6777 - val_accuracy: 0.5926 - val_mean_squared_error: 0.2423 - val_recall: 0.0000e+00 - val_precision: 0.0000e+00\n",
            "Epoch 3/5\n",
            "107/107 [==============================] - 3s 23ms/step - loss: 0.6834 - accuracy: 0.5702 - mean_squared_error: 0.2451 - recall: 0.0000e+00 - precision: 0.0000e+00 - val_loss: 0.6772 - val_accuracy: 0.5926 - val_mean_squared_error: 0.2421 - val_recall: 0.0000e+00 - val_precision: 0.0000e+00\n",
            "Epoch 4/5\n",
            "107/107 [==============================] - 2s 20ms/step - loss: 0.6834 - accuracy: 0.5702 - mean_squared_error: 0.2451 - recall: 0.0000e+00 - precision: 0.0000e+00 - val_loss: 0.6771 - val_accuracy: 0.5926 - val_mean_squared_error: 0.2420 - val_recall: 0.0000e+00 - val_precision: 0.0000e+00\n",
            "Epoch 5/5\n",
            "107/107 [==============================] - 2s 20ms/step - loss: 0.6833 - accuracy: 0.5702 - mean_squared_error: 0.2451 - recall: 0.0000e+00 - precision: 0.0000e+00 - val_loss: 0.6769 - val_accuracy: 0.5926 - val_mean_squared_error: 0.2419 - val_recall: 0.0000e+00 - val_precision: 0.0000e+00\n"
          ]
        }
      ]
    },
    {
      "cell_type": "markdown",
      "source": [
        "Again, we do not see any improvement in our accuracy, at all. At this stage, we have to assume that proper pre-processing of our input text corpus is necessary - more so than optimizing the models chosen."
      ],
      "metadata": {
        "id": "93mL-ksWpMFo"
      }
    },
    {
      "cell_type": "code",
      "source": [],
      "metadata": {
        "id": "g7Bw1mKGp5ru"
      },
      "execution_count": 219,
      "outputs": []
    },
    {
      "cell_type": "markdown",
      "source": [
        "## A quick check - would another, non-RNN model perform better on the data?"
      ],
      "metadata": {
        "id": "QWAAVAZDpdpN"
      }
    },
    {
      "cell_type": "code",
      "source": [
        "#model9.add(Embedding(input_dim=1000, output_dim=128))\n",
        "#model9.add(LSTM(128, return_sequences=True))\n",
        "#model9.add(LSTM(256))"
      ],
      "metadata": {
        "id": "tf2RPk0Ipipb"
      },
      "execution_count": null,
      "outputs": []
    },
    {
      "cell_type": "code",
      "source": [
        "X_train.shape"
      ],
      "metadata": {
        "colab": {
          "base_uri": "https://localhost:8080/"
        },
        "id": "Y2YbQ2M6qRES",
        "outputId": "e9c786e9-32b6-444e-c75c-d8b70e3f1077"
      },
      "execution_count": 233,
      "outputs": [
        {
          "output_type": "execute_result",
          "data": {
            "text/plain": [
              "(6796, 1000)"
            ]
          },
          "metadata": {},
          "execution_count": 233
        }
      ]
    },
    {
      "cell_type": "code",
      "source": [
        "model9 = Sequential()\n",
        "model9.add(Flatten(input_shape = (1000,)))\n",
        "model9.add(Dense(64, activation = \"relu\"))\n",
        "model9.add(Dense(64, activation = \"relu\"))\n",
        "model9.add(Dense(1, activation='sigmoid'))\n",
        "model9.summary()\n",
        "\n",
        "model9.compile(\n",
        "    loss=BinaryCrossentropy(from_logits=False),\n",
        "    optimizer=\"sgd\",\n",
        "    metrics=[\"accuracy\",\"MeanSquaredError\", \"Recall\", \"Precision\"] #,, ,\"recall\" \"MSE\" ,\n",
        ")\n",
        "\n",
        "modelfit9 = model9.fit(\n",
        "    X_train, y_train,\n",
        "    validation_data=(X_val, y_val),\n",
        "    batch_size=batch_size,\n",
        "    epochs=5,\n",
        "    callbacks = callbacks\n",
        ")\n"
      ],
      "metadata": {
        "colab": {
          "base_uri": "https://localhost:8080/"
        },
        "id": "J-zQu0hZpLxq",
        "outputId": "b8a2a9df-a969-43cb-9c23-c3cf4a990118"
      },
      "execution_count": 246,
      "outputs": [
        {
          "output_type": "stream",
          "name": "stdout",
          "text": [
            "Model: \"sequential_62\"\n",
            "_________________________________________________________________\n",
            " Layer (type)                Output Shape              Param #   \n",
            "=================================================================\n",
            " flatten_7 (Flatten)         (None, 1000)              0         \n",
            "                                                                 \n",
            " dense_96 (Dense)            (None, 64)                64064     \n",
            "                                                                 \n",
            " dense_97 (Dense)            (None, 64)                4160      \n",
            "                                                                 \n",
            " dense_98 (Dense)            (None, 1)                 65        \n",
            "                                                                 \n",
            "=================================================================\n",
            "Total params: 68289 (266.75 KB)\n",
            "Trainable params: 68289 (266.75 KB)\n",
            "Non-trainable params: 0 (0.00 Byte)\n",
            "_________________________________________________________________\n",
            "Epoch 1/5\n",
            "107/107 [==============================] - 1s 6ms/step - loss: 1629718925898595446911139840.0000 - accuracy: 0.5636 - mean_squared_error: 0.2724 - recall: 0.0499 - precision: 0.4155 - val_loss: 0.6887 - val_accuracy: 0.5741 - val_mean_squared_error: 0.2478 - val_recall: 0.0000e+00 - val_precision: 0.0000e+00\n",
            "Epoch 2/5\n",
            "107/107 [==============================] - 0s 4ms/step - loss: 0.6872 - accuracy: 0.5722 - mean_squared_error: 0.2471 - recall: 0.0000e+00 - precision: 0.0000e+00 - val_loss: 0.6861 - val_accuracy: 0.5741 - val_mean_squared_error: 0.2465 - val_recall: 0.0000e+00 - val_precision: 0.0000e+00\n",
            "Epoch 3/5\n",
            "107/107 [==============================] - 0s 4ms/step - loss: 0.6853 - accuracy: 0.5722 - mean_squared_error: 0.2461 - recall: 0.0000e+00 - precision: 0.0000e+00 - val_loss: 0.6845 - val_accuracy: 0.5741 - val_mean_squared_error: 0.2457 - val_recall: 0.0000e+00 - val_precision: 0.0000e+00\n",
            "Epoch 4/5\n",
            "107/107 [==============================] - 0s 4ms/step - loss: 0.6841 - accuracy: 0.5722 - mean_squared_error: 0.2455 - recall: 0.0000e+00 - precision: 0.0000e+00 - val_loss: 0.6836 - val_accuracy: 0.5741 - val_mean_squared_error: 0.2452 - val_recall: 0.0000e+00 - val_precision: 0.0000e+00\n",
            "Epoch 5/5\n",
            "107/107 [==============================] - 0s 4ms/step - loss: 0.6834 - accuracy: 0.5722 - mean_squared_error: 0.2452 - recall: 0.0000e+00 - precision: 0.0000e+00 - val_loss: 0.6830 - val_accuracy: 0.5741 - val_mean_squared_error: 0.2449 - val_recall: 0.0000e+00 - val_precision: 0.0000e+00\n"
          ]
        }
      ]
    },
    {
      "cell_type": "markdown",
      "source": [
        "Using a basic Neural Network, we again achieve the same accuracy."
      ],
      "metadata": {
        "id": "3ezuFEbPsVL1"
      }
    },
    {
      "cell_type": "markdown",
      "source": [
        "## New Section"
      ],
      "metadata": {
        "id": "4wM3EPQIsjto"
      }
    },
    {
      "cell_type": "markdown",
      "source": [],
      "metadata": {
        "id": "YY6A4kLFsioE"
      }
    },
    {
      "cell_type": "markdown",
      "source": [
        "Let's predict our test data labels:"
      ],
      "metadata": {
        "id": "9AkuEMGOtKxV"
      }
    },
    {
      "cell_type": "code",
      "source": [
        "predictions = model7.predict(Test_padded2)"
      ],
      "metadata": {
        "colab": {
          "base_uri": "https://localhost:8080/"
        },
        "id": "37zlNTLTtAHr",
        "outputId": "ec68d812-c82e-4ac7-bc3f-9747309a1f85"
      },
      "execution_count": 248,
      "outputs": [
        {
          "output_type": "stream",
          "name": "stdout",
          "text": [
            "102/102 [==============================] - 1s 7ms/step\n"
          ]
        }
      ]
    },
    {
      "cell_type": "markdown",
      "source": [
        "We have no reason to modify our prediction threshold, which should be set at 0.5."
      ],
      "metadata": {
        "id": "Hthe6gOXta4l"
      }
    },
    {
      "cell_type": "code",
      "source": [
        "predictions[predictions >= 0.5 ] = 1\n",
        "predictions[predictions < 0.5] = 0"
      ],
      "metadata": {
        "id": "l8bZBY1JtMlt"
      },
      "execution_count": 249,
      "outputs": []
    },
    {
      "cell_type": "code",
      "source": [
        "sample = pd.read_csv(\"/content/sample_submission.csv\")"
      ],
      "metadata": {
        "id": "wpqOcNMjuIdW"
      },
      "execution_count": 255,
      "outputs": []
    },
    {
      "cell_type": "code",
      "source": [
        "sample[\"target\"] = predictions"
      ],
      "metadata": {
        "id": "6PcW3_XVuR0n"
      },
      "execution_count": 257,
      "outputs": []
    },
    {
      "cell_type": "code",
      "source": [
        "sample.to_csv(\"Kaggle_submission.csv\", encoding='utf-8', index=False)"
      ],
      "metadata": {
        "id": "LWJT24-nufTQ"
      },
      "execution_count": 258,
      "outputs": []
    },
    {
      "cell_type": "markdown",
      "source": [
        "When submitting this to Kaggle, we receive a public score of approx 57%. This means we are consistent with our training and validation accuracy."
      ],
      "metadata": {
        "id": "g8Sc8ZrBvPUC"
      }
    },
    {
      "cell_type": "markdown",
      "source": [
        "# Discussion"
      ],
      "metadata": {
        "id": "jun_DqLQvpHg"
      }
    },
    {
      "cell_type": "markdown",
      "source": [
        "## The good parts"
      ],
      "metadata": {
        "id": "hlIo7oNWvsJb"
      }
    },
    {
      "cell_type": "markdown",
      "source": [
        "After minimally invasive pre-processing of our text corpus provided using a first technique producing sparse matrixes (not a good idea for input to RNNs) and use of a tokenizer to predict the occurrences using the full text corpus itself, with subsequent padding to have corresponding lengths for each sample, several models were created and improved (or rather, attempts were made to improve these). Each model achieved approx 57% accuracy, no matter which modification was performed, hinting at the unprocessed nature of the text corpus being the limiting factor. Consistent results accross training, validation and testing data were achieved, underlining this issue. In particular, the same result in the testing data highlights that no issue in the naive text corpus processing is present."
      ],
      "metadata": {
        "id": "wSbptdCNvur9"
      }
    },
    {
      "cell_type": "markdown",
      "source": [
        "## The bad parts"
      ],
      "metadata": {
        "id": "YdLmcy26yWTc"
      }
    },
    {
      "cell_type": "markdown",
      "source": [
        "To be honest: My models are not fit for purpose - we are only slightly better of with either model than with tossing a coin! However, there is only so much to do without delving further into the pre-processing aspects, which goes more in the direction of NLP than RNNs! Considering that most models participating in the challenge do achieve an accuracy below 80%, it is reasonable to state that the pre-processing is not trivial."
      ],
      "metadata": {
        "id": "vXoVxBUSyYZb"
      }
    },
    {
      "cell_type": "markdown",
      "source": [
        "## Possible improvements"
      ],
      "metadata": {
        "id": "vVBfITCHzizm"
      }
    },
    {
      "cell_type": "markdown",
      "source": [
        "The most important thing to do is delving into the topic of NLP (which was not the purpose of this weeks project!) and see how we can improve on the pre-processing and feature generation based on the text corpus. Only with such a text corpus, it is reasonable to re-attempt the model generation and optimization."
      ],
      "metadata": {
        "id": "QzYeV4KczmjV"
      }
    },
    {
      "cell_type": "markdown",
      "source": [
        "# References"
      ],
      "metadata": {
        "id": "bEoln1ZF1617"
      }
    },
    {
      "cell_type": "markdown",
      "source": [
        "[1] https://www.kaggle.com/code/philculliton/nlp-getting-started-tutorial\n",
        "\n",
        "[2] https://pub.towardsai.net/keras-for-multi-label-text-classification-86d194311d0e\n",
        "\n",
        "[3] https://www.tensorflow.org/text/guide/word_embeddings"
      ],
      "metadata": {
        "id": "I9RK6QDk18fg"
      }
    }
  ]
}